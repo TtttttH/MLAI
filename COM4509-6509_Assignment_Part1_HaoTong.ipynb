{
 "cells": [
  {
   "cell_type": "markdown",
   "metadata": {},
   "source": [
    "# Assignment Part 1 Brief \n",
    "\n",
    "## Deadline: Friday, December 3, 2021 at 15:00 hrs\n",
    "\n",
    "## Number of marks available for Part 1: 25\n",
    "\n",
    "## Scope: Sessions 1 to 5\n",
    "\n",
    "### Please READ the whole assignment first, before starting to work on it.\n",
    "\n",
    "### How and what to submit\n",
    "\n",
    "A. A **Jupyter Notebook** with the code in all the cells executed and outputs displayed.\n",
    "\n",
    "B. Name your Notebook **COM4509-6509_Assignment_Part1_Username_XXXXXX.ipynb** where XXXXXX is your username such as such as abc18de.  \n",
    "\n",
    "C. Upload a .zip file to Blackboard before the deadline that contains the Jupyter Notebook in B and any other files requested for the solution of Part 2 of the Assignment (Dr Lu will be in charge of releasing this part). \n",
    "\n",
    "D. **NO DATA UPLOAD**: Please do not upload the data files used in this Notebook. We have a copy already. \n",
    "\n",
    "\n",
    "### Assessment Criteria \n",
    "\n",
    "* Being able to use numpy and pandas to preprocess a dataset.\n",
    "\n",
    "* Being able to use numpy to build a machine learning pipeline for supervised learning. \n",
    "\n",
    "* Being able to follow the steps involved in an end-to-end project in machine learning.\n",
    "\n",
    "* Being able to use scikit-learn to design a machine learning model pipeline\n",
    "\n",
    "\n",
    "### Late submissions\n",
    "\n",
    "We follow Department's guidelines about late submissions, i.e., a deduction of 5% of the mark each working day the work is late after the deadline. NO late submission will be marked one week after the deadline because we will release a solution by then. Please read [this link](https://sites.google.com/sheffield.ac.uk/comughandbook/general-information/assessment/late-submission) if you are taking COM4509 or read [this link](https://sites.google.com/sheffield.ac.uk/compgtstudenthandbook/menu/assessment/late-submission) if you are taking COM6509. \n",
    "\n",
    "### Use of unfair means \n",
    "\n",
    "**\"Any form of unfair means is treated as a serious academic offence and action may be taken under the Discipline Regulations.\"** (from the students Handbook). Please carefully read [this link](https://sites.google.com/sheffield.ac.uk/comughandbook/general-information/assessment/unfair-means) on what constitutes Unfair Means if not sure, for COM4509. If you are taking COM6509, please read [this link](https://sites.google.com/sheffield.ac.uk/compgtstudenthandbook/menu/referencing-unfair-means) if you are not sure what is Unfair means. If you still have questions, please ask your Personal tutor or the Lecturers. "
   ]
  },
  {
   "cell_type": "markdown",
   "metadata": {},
   "source": [
    "# A dataset of air quality\n",
    "\n",
    "The dataset you will use in this assignment comes from a popular machine learning repository that hosts open source datasets for educational and research purposes, the [UCI Machine Learning Repository](https://archive.ics.uci.edu/ml/index.php). We are going to use regularised ridge regression and random forests for predicting air quality. The description of the dataset can be found [here](https://archive.ics.uci.edu/ml/datasets/Air+Quality)."
   ]
  },
  {
   "cell_type": "code",
   "execution_count": 2,
   "metadata": {},
   "outputs": [
    {
     "data": {
      "text/plain": [
       "('./AirQualityUCI.zip', <http.client.HTTPMessage at 0x109a562e0>)"
      ]
     },
     "execution_count": 2,
     "metadata": {},
     "output_type": "execute_result"
    }
   ],
   "source": [
    "import urllib.request\n",
    "doq = \"https://archive.ics.uci.edu/ml/machine-learning-databases/00360/AirQualityUCI.zip\"\n",
    "pat_sav = \"./AirQualityUCI.zip\"\n",
    "urllib.request.urlretrieve(doq, pat_sav)\n",
    "#urllib.request.urlretrieve(\"https://archive.ics.uci.edu/ml/machine-learning-databases/00360/AirQualityUCI.zip\")"
   ]
  },
  {
   "cell_type": "code",
   "execution_count": 3,
   "metadata": {},
   "outputs": [],
   "source": [
    "import zipfile\n",
    "zip = zipfile.ZipFile('./AirQualityUCI.zip', 'r')\n",
    "for name in zip.namelist():\n",
    "    zip.extract(name, '.')"
   ]
  },
  {
   "cell_type": "code",
   "execution_count": 266,
   "metadata": {},
   "outputs": [],
   "source": [
    "# The .csv version of the file has some typing issues, so we use the excel version\n",
    "import pandas as pd \n",
    "air_quality_full = pd.read_excel('./AirQualityUCI.xlsx', usecols=range(2,15))"
   ]
  },
  {
   "cell_type": "markdown",
   "metadata": {},
   "source": [
    "We can see some of the rows in the dataset "
   ]
  },
  {
   "cell_type": "code",
   "execution_count": 35,
   "metadata": {},
   "outputs": [
    {
     "data": {
      "text/html": [
       "<div>\n",
       "<style scoped>\n",
       "    .dataframe tbody tr th:only-of-type {\n",
       "        vertical-align: middle;\n",
       "    }\n",
       "\n",
       "    .dataframe tbody tr th {\n",
       "        vertical-align: top;\n",
       "    }\n",
       "\n",
       "    .dataframe thead th {\n",
       "        text-align: right;\n",
       "    }\n",
       "</style>\n",
       "<table border=\"1\" class=\"dataframe\">\n",
       "  <thead>\n",
       "    <tr style=\"text-align: right;\">\n",
       "      <th></th>\n",
       "      <th>CO(GT)</th>\n",
       "      <th>PT08.S1(CO)</th>\n",
       "      <th>NMHC(GT)</th>\n",
       "      <th>C6H6(GT)</th>\n",
       "      <th>PT08.S2(NMHC)</th>\n",
       "      <th>NOx(GT)</th>\n",
       "      <th>PT08.S3(NOx)</th>\n",
       "      <th>NO2(GT)</th>\n",
       "      <th>PT08.S4(NO2)</th>\n",
       "      <th>PT08.S5(O3)</th>\n",
       "      <th>T</th>\n",
       "      <th>RH</th>\n",
       "      <th>AH</th>\n",
       "    </tr>\n",
       "  </thead>\n",
       "  <tbody>\n",
       "    <tr>\n",
       "      <th>4839</th>\n",
       "      <td>4.1</td>\n",
       "      <td>1235.75</td>\n",
       "      <td>-200</td>\n",
       "      <td>21.275833</td>\n",
       "      <td>1331.50</td>\n",
       "      <td>641.0</td>\n",
       "      <td>600.50</td>\n",
       "      <td>152.0</td>\n",
       "      <td>1683.00</td>\n",
       "      <td>1549.50</td>\n",
       "      <td>17.800</td>\n",
       "      <td>45.674999</td>\n",
       "      <td>0.922429</td>\n",
       "    </tr>\n",
       "    <tr>\n",
       "      <th>1600</th>\n",
       "      <td>2.0</td>\n",
       "      <td>1052.50</td>\n",
       "      <td>-200</td>\n",
       "      <td>9.784034</td>\n",
       "      <td>969.50</td>\n",
       "      <td>138.0</td>\n",
       "      <td>930.00</td>\n",
       "      <td>105.0</td>\n",
       "      <td>1472.50</td>\n",
       "      <td>991.00</td>\n",
       "      <td>25.500</td>\n",
       "      <td>21.050000</td>\n",
       "      <td>0.677027</td>\n",
       "    </tr>\n",
       "    <tr>\n",
       "      <th>4299</th>\n",
       "      <td>1.6</td>\n",
       "      <td>987.75</td>\n",
       "      <td>-200</td>\n",
       "      <td>7.049952</td>\n",
       "      <td>859.00</td>\n",
       "      <td>-200.0</td>\n",
       "      <td>844.75</td>\n",
       "      <td>-200.0</td>\n",
       "      <td>1341.25</td>\n",
       "      <td>799.25</td>\n",
       "      <td>27.125</td>\n",
       "      <td>26.925000</td>\n",
       "      <td>0.952434</td>\n",
       "    </tr>\n",
       "    <tr>\n",
       "      <th>9227</th>\n",
       "      <td>0.5</td>\n",
       "      <td>900.75</td>\n",
       "      <td>-200</td>\n",
       "      <td>2.062928</td>\n",
       "      <td>588.75</td>\n",
       "      <td>122.0</td>\n",
       "      <td>933.00</td>\n",
       "      <td>69.9</td>\n",
       "      <td>1108.50</td>\n",
       "      <td>753.75</td>\n",
       "      <td>10.200</td>\n",
       "      <td>77.875000</td>\n",
       "      <td>0.969173</td>\n",
       "    </tr>\n",
       "    <tr>\n",
       "      <th>8581</th>\n",
       "      <td>1.4</td>\n",
       "      <td>1216.50</td>\n",
       "      <td>-200</td>\n",
       "      <td>6.742318</td>\n",
       "      <td>845.50</td>\n",
       "      <td>262.8</td>\n",
       "      <td>649.75</td>\n",
       "      <td>135.5</td>\n",
       "      <td>1120.25</td>\n",
       "      <td>1480.50</td>\n",
       "      <td>2.850</td>\n",
       "      <td>75.575001</td>\n",
       "      <td>0.574151</td>\n",
       "    </tr>\n",
       "  </tbody>\n",
       "</table>\n",
       "</div>"
      ],
      "text/plain": [
       "      CO(GT)  PT08.S1(CO)  NMHC(GT)   C6H6(GT)  PT08.S2(NMHC)  NOx(GT)  \\\n",
       "4839     4.1      1235.75      -200  21.275833        1331.50    641.0   \n",
       "1600     2.0      1052.50      -200   9.784034         969.50    138.0   \n",
       "4299     1.6       987.75      -200   7.049952         859.00   -200.0   \n",
       "9227     0.5       900.75      -200   2.062928         588.75    122.0   \n",
       "8581     1.4      1216.50      -200   6.742318         845.50    262.8   \n",
       "\n",
       "      PT08.S3(NOx)  NO2(GT)  PT08.S4(NO2)  PT08.S5(O3)       T         RH  \\\n",
       "4839        600.50    152.0       1683.00      1549.50  17.800  45.674999   \n",
       "1600        930.00    105.0       1472.50       991.00  25.500  21.050000   \n",
       "4299        844.75   -200.0       1341.25       799.25  27.125  26.925000   \n",
       "9227        933.00     69.9       1108.50       753.75  10.200  77.875000   \n",
       "8581        649.75    135.5       1120.25      1480.50   2.850  75.575001   \n",
       "\n",
       "            AH  \n",
       "4839  0.922429  \n",
       "1600  0.677027  \n",
       "4299  0.952434  \n",
       "9227  0.969173  \n",
       "8581  0.574151  "
      ]
     },
     "execution_count": 35,
     "metadata": {},
     "output_type": "execute_result"
    }
   ],
   "source": [
    "air_quality_full.sample(5)"
   ]
  },
  {
   "cell_type": "markdown",
   "metadata": {},
   "source": [
    "The target variable corresponds to the CO(GT) variable of the first column. The following columns correspond to the variables in the feature vectors, *e.g.*, PT08.S1(CO) is $x_1$ up until AH which is $x_D$. The original dataset also has a date and a time columns that we are not going to use in this assignment.\n",
    "\n",
    "### Removing instances \n",
    "\n",
    "The dataset has missing values tagged with a -200 value. To simplify the design of the machine learning models in this assignment, we perform the following two operations to the dataset right from the beginning:\n",
    "\n",
    "* we will remove the rows for which the target variable has missing values. We are doing supervised learning so we need all our data observations to have known target values.\n",
    "\n",
    "* we will remove features with more than 20% of missing values. \n",
    "\n",
    "The code below performs both operations"
   ]
  },
  {
   "cell_type": "code",
   "execution_count": 267,
   "metadata": {},
   "outputs": [],
   "source": [
    "# We first remove the rows for which there are missing values in the target feature\n",
    "air_quality = air_quality_full.loc[air_quality_full.iloc[:, 0]!=-200, :]"
   ]
  },
  {
   "cell_type": "code",
   "execution_count": 268,
   "metadata": {},
   "outputs": [],
   "source": [
    "# We now remove the columns (features) for which there are more that 20% of missing values\n",
    "import numpy as np\n",
    "ndata, ncols = np.shape(air_quality) # number of data observations and number of columns in the dataframe\n",
    "pmissing = np.empty(ncols)         # An empty vector that will keep the percentage of missing values per feature\n",
    "for i in range(ncols):\n",
    "    pmissing[i] = (air_quality.iloc[:, i]==-200).sum()/ndata # Computes the percentage of missing values per column\n",
    "air_quality = air_quality.loc[:, pmissing < 0.2]"
   ]
  },
  {
   "cell_type": "markdown",
   "metadata": {},
   "source": [
    "### Splitting the dataset \n",
    "\n",
    "Before designing any machine learning model, we need to set aside the test data. We will use the remaining training data for fitting the model. *It is important to remember that the test data has to be set aside before preprocessing*. \n",
    "\n",
    "Any preprocessing that you do has to be done only on the training data and several key statistics need to be saved for the test stage.  Separating the dataset into training and test before any preprocessing has happened help us to recreate the real world scenario where we will deploy our system and for which the data will come without any preprocessing.\n",
    "\n",
    "Furthermore, we are going to use *hold-out validation* for validating our predictive model so we need to further separate the training data into a training set and a validation set.\n",
    "\n",
    "We split the dataset into a training set, a validation set and a test set. The training set will have 70% of the total observations, the validation set 15% and the test set, the remaining 15%. For making the random selections of the training and validation sets **make sure that you use a random seed that corresponds to the last five digits of your student UCard**. In the code below, I have used 55555 as an example of my random seed."
   ]
  },
  {
   "cell_type": "code",
   "execution_count": 269,
   "metadata": {},
   "outputs": [],
   "source": [
    "np.random.seed(65375)                 # Make sure you use the last five digits of your student UCard as your seed\n",
    "index = np.random.permutation(ndata)  # We permute the indexes \n",
    "N = np.int64(np.round(0.70*ndata))    # We compute N, the number of training instances\n",
    "Nval = np.int64(np.round(0.15*ndata)) # We compute Nval, the number of validation instances   \n",
    "Ntest = ndata - N - Nval              # We compute Ntest, the number of test instances\n",
    "data_training_unproc = air_quality.iloc[index[0:N], :].copy() # Select the training data\n",
    "data_val_unproc = air_quality.iloc[index[N:N+Nval], :].copy() # Select the validation data\n",
    "data_test_unproc = air_quality.iloc[index[N+Nval:ndata], :].copy() # Select the test data"
   ]
  },
  {
   "cell_type": "markdown",
   "metadata": {},
   "source": [
    "The assigment is divided into two sections. In the **first section**, you will design a regularised ridge regression model trained with stochastic gradient descent. You will write all the code from scratch. You should not use any library that already implements any of the routines considered in this section, for example, scikit-learn. In the **second section**, you will design a random forests model and you are allowed to use scikit-learn in this section.\n",
    "\n",
    "When writing your code, you will find out that there are operations that are repeated at least twice. We will assign marks for use of Python functions and for commenting your code. The marks will be assigned as:\n",
    "\n",
    "* Did you include Python functions to solve the question and avoid repeating code? (**1 mark**)\n",
    "* Did you comment your code to make it readable to others? (**1 mark**)"
   ]
  },
  {
   "cell_type": "markdown",
   "metadata": {},
   "source": [
    "# 1. Using regularised ridge regression to predict air quality (10 marks)\n",
    "\n",
    "**DO NOT USE scikit-learn or any other machine learning library for the questions on this section. You are meant to write Python code from scratch. You can use Pandas and Numpy. Using scikit-learn or any other machine learning library for the questions in this section will give ZERO marks. No excuse will be accepted.**\n",
    "\n",
    "Regularisation is a technique commonly used in Machine Learning to prevent overfitting. It consists on adding terms to the objective function such that the optimisation procedure avoids solutions that just learn the training data. Popular techniques for regularisation in Supervised Learning include [Lasso Regression](https://en.wikipedia.org/wiki/Lasso_(statistics)), [Ridge Regression](https://en.wikipedia.org/wiki/Tikhonov_regularization) and the [Elastic Net](https://en.wikipedia.org/wiki/Elastic_net_regularization). \n",
    "\n",
    "In this part of the Assignment, you will be looking at Ridge Regression and implementing equations to optimise the objective function using the update rules for stochastic gradient descent. You will use those update rules for making predictions on the Air Quality dataset.\n",
    "\n",
    "## 1.1 Ridge Regression\n",
    "\n",
    "Let us start with a data set for training $\\mathcal{D} = \\{\\mathbf{y}, \\mathbf{X}\\}$, where the vector $\\mathbf{y}=[y_1, \\cdots, y_N]^{\\top}$ and $\\mathbf{X}$ is the design matrix from Lab 4, this is, \n",
    "\n",
    "\\begin{align*}\n",
    "    \\mathbf{X} = \n",
    "                \\begin{bmatrix}\n",
    "                        1 & x_{1,1} & \\cdots & x_{1, D}\\\\\n",
    "                        1 & x_{2,1} & \\cdots & x_{2, D}\\\\\n",
    "                   \\vdots &  \\vdots\\\\\n",
    "                        1 & x_{N,1} & \\cdots & x_{N, D}\n",
    "                \\end{bmatrix}\n",
    "               = \n",
    "               \\begin{bmatrix}\n",
    "                      \\mathbf{x}_1^{\\top}\\\\\n",
    "                       \\mathbf{x}_2^{\\top}\\\\\n",
    "                          \\vdots\\\\\n",
    "                        \\mathbf{x}_N^{\\top}\n",
    "                \\end{bmatrix}.\n",
    "\\end{align*}\n",
    "\n",
    "Our predictive model is going to be a linear model\n",
    "\n",
    "$$ f(\\mathbf{x}_i) = \\mathbf{w}^{\\top}\\mathbf{x}_i,$$\n",
    "\n",
    "where $\\mathbf{w} = [w_0\\; w_1\\; \\cdots \\; w_D]^{\\top}$.\n",
    "\n",
    "The **objective function** we are going to use has the following form\n",
    "\n",
    "$$ E(\\mathbf{w}, \\lambda) = \\frac{1}{N}\\sum_{n=1}^N (y_n - f(\\mathbf{x}_n))^2 + \\frac{\\lambda}{2}\\sum_{j=0}^D w_j^2,$$\n",
    "\n",
    "where $\\lambda>0$ is known as the *regularisation* parameter.\n",
    "\n",
    "This objective function was studied in Lecture 4. \n",
    "\n",
    "The first term on the rhs is what we call the \"fitting\" term whereas the second term in the expression is the regularisation term. Given $\\lambda$, the two terms in the expression have different purposes. The first term is looking for a value of $\\mathbf{w}$ that leads the squared-errors to zero. While doing this, $\\mathbf{w}$ can take any value and lead to a solution that it is only good for the training data but perhaps not for the test data. The second term is regularising the behavior of the first term by driving the $\\mathbf{w}$ towards zero. By doing this, it restricts the possible set of values that $\\mathbf{w}$ might take according to the first term. The value that we use for $\\lambda$ will allow a compromise between a value of $\\mathbf{w}$ that exactly fits the data (first term) or a value of $\\mathbf{w}$ that does not grow too much (second term).\n",
    "\n",
    "This type of regularisation has different names: ridge regression, Tikhonov regularisation or $\\ell_2$ norm regularisation. \n",
    "\n",
    "## 1.2 Optimising the objective function with respect to $\\mathbf{w}$\n",
    "\n",
    "There are two ways we can optimise the objective function with respect to $\\mathbf{w}$. The first one leads to a closed form expression for $\\mathbf{w}$ and the second one using an iterative optimisation procedure that updates the value of $\\mathbf{w}$ at each iteration by using the gradient of the objective function with respect to $\\mathbf{w}$,\n",
    "$$\n",
    "\\mathbf{w}_{\\text{new}} = \\mathbf{w}_{\\text{old}} - \\eta \\frac{d E(\\mathbf{w}, \\lambda)}{d\\mathbf{w}},\n",
    "$$\n",
    "where $\\eta$ is the *learning rate* parameter and $\\frac{d E(\\mathbf{w}, \\lambda)}{d\\mathbf{w}}$ is the gradient of the objective function.\n",
    "\n",
    "It can be shown (this is a question in the Exercise Sheet 4) that a closed-form expression for the optimal $\\mathbf{w}_*$ is given as\n",
    "\n",
    "\\begin{align*}            \n",
    "            \\mathbf{w}_*& = \\left(\\mathbf{X}^{\\top}\\mathbf{X} + \\frac{\\lambda N}   \n",
    "                                     {2}\\mathbf{I}\\right)^{-1}\\mathbf{X}^{\\top}\\mathbf{y}.\n",
    "\\end{align*}\n",
    "\n",
    "Alternatively, we can find an update equation for $\\mathbf{w}_{\\text{new}}$ using gradient descent leading to:\n",
    "\n",
    "\\begin{align*}\n",
    "   \\mathbf{w}_{\\text{new}} & = \\mathbf{w}_{\\text{old}} - \\eta \\frac{d E(\\mathbf{w}, \\lambda)}\n",
    "                              {d\\mathbf{w}},\\\\\n",
    "                           & = \\mathbf{w}_{\\text{old}} +  \\frac{2\\eta}{N}\\sum_{n=1}^N   \n",
    "                               \\left(y_n - \\mathbf{x}_n^{\\top}\\mathbf{w}_{\\text{old}}\\right)\\mathbf{x}_n  \n",
    "                       - \\eta\\lambda\\mathbf{w}_{\\text{old}}\\\\\n",
    "                           & = (1 - \\eta\\lambda)\\mathbf{w}_{\\text{old}} + \\frac{2\\eta}\n",
    "                               {N}\\sum_{n=1}^N   \n",
    "                               \\left(y_n - \\mathbf{x}_n^{\\top}\\mathbf{w}_{\\text{old}}\\right)\\mathbf{x}_n\n",
    "\\end{align*}"
   ]
  },
  {
   "cell_type": "markdown",
   "metadata": {},
   "source": [
    "## 1.3 Preprocessing the data\n",
    "\n",
    "As mentioned before, the dataset has missing values tagged with a -200 value. Before doing any work with the training data, we want to make sure that we deal properly with the missing values. Furthermore, once we have dealt with the missing values, we want to standardise the training data. \n",
    "\n",
    "### Question 1.a: Missing values and standardisation (2 marks)\n",
    "\n",
    "* For all the other features with missing values, use the mean value of the non-missing values for that feature to perform imputation. Save these mean values, you will need them when performing the validation stage (**1 mark**).\n",
    "\n",
    "* Once you have imputed the missing data, we need to standardise the input vectors. Standardise the training data by substracting the mean value for each feature and dividing the result by the standard deviation of each feature. Keep the mean values and standard deviations, you will need them at validation time (**1 mark**).\n",
    "\n",
    "#### Question 1.a Answer"
   ]
  },
  {
   "cell_type": "code",
   "execution_count": 270,
   "metadata": {},
   "outputs": [],
   "source": [
    "ndata, ncols = np.shape(air_quality)\n",
    "col_names = air_quality.columns.values\n",
    "\n",
    "def impute(df_unproc, ncols, col_names):\n",
    "    mean_notnull = np.empty(ncols)\n",
    "    df_proc = df_unproc.copy()\n",
    "    for i in range(ncols):\n",
    "        mean_notnull[i] = np.mean(df_proc[col_names[i]][df_proc[col_names[i]]!=-200])\n",
    "        df_proc[col_names[i]][df_proc[col_names[i]]==-200] = mean_notnull[i]\n",
    "    return df_proc\n",
    "\n",
    "def save_mean_data(df_impute):\n",
    "    return np.mean(df_impute)\n",
    "\n",
    "def save_std_data(df_impute):\n",
    "    return np.std(df_impute)\n",
    "\n",
    "def standardise_data(df_impute, mean_data, std_data, col_names):\n",
    "    df_proc = df_impute.copy()\n",
    "    for i in range(1, ncols):\n",
    "        df_proc[col_names[i]] = (df_proc[col_names[i]] - mean_data[i]) / std_data[i]\n",
    "    return df_proc\n",
    "\n",
    "#fix the missing values for training dataset\n",
    "data_training_impute = impute(data_training_unproc, ncols, col_names)\n",
    "\n",
    "#save the mean, std of data_training_impute\n",
    "mean_data = save_mean_data(data_training_impute)\n",
    "std_data = save_std_data(data_training_impute)\n",
    "\n",
    "#standardlise the training dataset\n",
    "data_training_proc = standardise_data(data_training_impute, mean_data, std_data, col_names)\n",
    "\n"
   ]
  },
  {
   "cell_type": "markdown",
   "metadata": {},
   "source": [
    "## 1.4 Training and validation stages\n",
    "\n",
    "We have now curated our training data by removing data observations and features with a large amount of missing values. We have also normalised the feature vectors. We are now in a good position to work on developing the prediction model and validating it. We will use gradient descent for iterative optimisation. \n",
    "\n",
    "We first organise the dataframe into the vector of targets $\\mathbf{y}$, call it `yTrain`, and the design matrix $\\mathbf{X}$, call it `XTrain`."
   ]
  },
  {
   "cell_type": "code",
   "execution_count": 271,
   "metadata": {
    "scrolled": true
   },
   "outputs": [],
   "source": [
    "# Split the target and features\n",
    "def split_target_features(data_proc):\n",
    "    yTrain = (np.array(data_proc['CO(GT)']).reshape(-1, 1)).copy()\n",
    "    XTrain = np.hstack((np.ones(yTrain.shape).reshape(-1, 1), np.array(data_proc.drop('CO(GT)', axis=1)))).copy()\n",
    "    return XTrain, yTrain\n",
    "XTrain, yTrain = split_target_features(data_training_proc)\n",
    "#print(XTrain,'\\n' ,yTrain)"
   ]
  },
  {
   "cell_type": "markdown",
   "metadata": {},
   "source": [
    "### Question 1.b: finding the optimal $\\mathbf{w}$ with stochastic gradient descent (3 marks)\n",
    "\n",
    "Use gradient descent to iteratively compute the value of $\\mathbf{w}_{\\text{new}}$. Instead of using all the training set in `XTrain` and `yTrain` to compute the gradient, use a subset of $S$ instances in `XTrain` and `yTrain`. This is sometimes called *minibatch gradient descent* where $S$ is the size of the minibacth. When using gradient descent with minibatches, you need to find the best values for three parameters: $\\eta$, the learning rate, $S$, the number of datapoints in the minibatch and $\\gamma$, the regularisation parameter.\n",
    "\n",
    "* In this question we will use the validation data. So before proceeding to the next steps, make sure that you:  replace the missing values on each feature variables with the mean value you computed with the training data; standardise the validation data using the means and standard deviations computed from the training data (**1 mark**).\n",
    "    \n",
    "* Create a grid of values for the parameters $\\gamma$ and $\\eta$ using `np.logspace` and a grid of values for $S$ using `np.linspace`. Because you need to find three parameters, start with five values for each parameter in the grid and see if you can increase it. Make sure you understand what is the meaning of `np.logspace` and `np.linspace`. Notice that you can use negative values for `start` in `np.logspace` (**1 mark**).\n",
    "\n",
    "* For each value that you have of $\\gamma$, $\\eta$ and $S$ from the previous step, use the training set to compute $\\mathbf{w}$ using minibatch gradient descent and then measure the RMSE over the validation data. For the validation data, make sure you preprocess it before applying the prediction model over it. For the minibatch gradient descent choose to stop the iterative procedure after $200$ iterations (**1 mark**).\n",
    "\n",
    "* Choose the values of $\\gamma$, $\\eta$ and $S$ that lead to the lowest RMSE and save them. You will use them at the test stage.\n",
    "\n",
    "#### Question 1.b Answer"
   ]
  },
  {
   "cell_type": "code",
   "execution_count": 272,
   "metadata": {},
   "outputs": [
    {
     "data": {
      "text/plain": [
       "array([[ 2.12707133],\n",
       "       [ 0.36699644],\n",
       "       [ 0.47747072],\n",
       "       [ 0.11514223],\n",
       "       [ 0.50555582],\n",
       "       [ 0.04928669],\n",
       "       [ 0.20279588],\n",
       "       [ 0.36608647],\n",
       "       [-0.2970428 ],\n",
       "       [-0.15706756],\n",
       "       [-0.1515783 ],\n",
       "       [-0.02158918]])"
      ]
     },
     "execution_count": 272,
     "metadata": {},
     "output_type": "execute_result"
    }
   ],
   "source": [
    "def gradient_descent(Xdata, ydata, w, gama, ita, s):\n",
    "    x = Xdata\n",
    "    y = ydata\n",
    "    w_new = np.empty(w.shape)\n",
    "    w_old = w\n",
    "    test = 0\n",
    "    \n",
    "    for i in range(200):\n",
    "        w_new = (1 - ita*gama) * w_old # the first term on the rhs\n",
    "        for j in range(s):\n",
    "            temp = x[j].copy().reshape(-1,1)\n",
    "            w_new += 2*ita/s * (y[j]*temp - np.dot(temp.T,w_old)*temp)\n",
    "        w_old = w_new\n",
    "    return w_new\n",
    "gradient_descent(XTrain, yTrain,w, 0.001, 0.01, 400)"
   ]
  },
  {
   "cell_type": "code",
   "execution_count": 273,
   "metadata": {},
   "outputs": [
    {
     "name": "stderr",
     "output_type": "stream",
     "text": [
      "<ipython-input-273-d359897bd94f>:67: RuntimeWarning: overflow encountered in square\n",
      "  error_test = np.sqrt(np.mean(np.square(absError)))\n"
     ]
    },
    {
     "name": "stdout",
     "output_type": "stream",
     "text": [
      "RMSE_min: 0.4682172249683078 ita: 0.1 gama: 0.005623413251903491 s: 800\n"
     ]
    }
   ],
   "source": [
    "max_n_iter = 200 # max iterative procedure\n",
    "\n",
    "# Replace the missing values and standardise the validation data\n",
    "data_val_impute = impute(data_val_unproc, ncols, col_names)\n",
    "mean_val_data = save_mean_data(data_val_impute)\n",
    "std_val_data = save_std_data(data_val_impute)\n",
    "data_val_proc = standardise_data(data_val_impute, mean_val_data, std_val_data, col_names)\n",
    "\n",
    "#Create the grid of parameters\n",
    "def set_gamas(min, max, num = 5):\n",
    "    gamas = np.logspace(min, max, num = num)\n",
    "    return gamas\n",
    "\n",
    "def set_itas(min, max, num = 5):\n",
    "    itas = np.logspace(min, max, num = num)\n",
    "    return itas\n",
    "\n",
    "def set_S(min, max, num = 5):\n",
    "    S = np.linspace(min, max, num = num, dtype = int)\n",
    "    return S\n",
    "\n",
    "# Create XVal, yVal\n",
    "XVal, yVal = split_target_features(data_val_proc)\n",
    "# print('XVal:\\n', XVal)\n",
    "# print('yVal:\\n', yVal)\n",
    "\n",
    "##############\n",
    "def gradient_descent(Xdata, ydata, w, gama, ita, s):\n",
    "    x = Xdata\n",
    "    y = ydata\n",
    "    w_new = np.empty(w.shape)\n",
    "    w_old = w\n",
    "    test = 0\n",
    "    \n",
    "    for i in range(200):\n",
    "        w_new = (1 - ita*gama) * w_old # the first term on the rhs\n",
    "        for j in range(s):\n",
    "            temp = x[j].copy().reshape(-1,1)\n",
    "            w_new += 2*ita/s * (y[j]*temp - np.dot(temp.T,w_old)*temp)\n",
    "        w_old = w_new\n",
    "    return w_new\n",
    "\n",
    "#find the best parameters\n",
    "def find_better_parameters(gamas, itas, S, XTrain, yTrain,XTest, yTest):\n",
    "    glen = len(gamas)\n",
    "    ilen = len(itas)\n",
    "    Slen = len(S)\n",
    "    rmse_min = 100\n",
    "    ita = itas[0]\n",
    "    gama = gamas[0]\n",
    "    s = S[0]\n",
    "    for i in range(glen):\n",
    "        for j in range(ilen):\n",
    "            for k in range(Slen):\n",
    "                temp = gradient_descent(XTrain, yTrain, w, gamas[i], itas[j], S[k])\n",
    "                rmse = RMSE(temp, yTest, XTest)\n",
    "                if rmse_min > rmse:\n",
    "                    rmse_min = rmse\n",
    "                    ita = itas[j]\n",
    "                    gama = gamas[i]\n",
    "                    s = S[k]\n",
    "    return (rmse_min, ita, gama, s)\n",
    "\n",
    "def RMSE(w, yTest, XTest):\n",
    "    y_pred = np.dot(XTest,w)\n",
    "    absError = y_pred - yTest\n",
    "    error_test = np.sqrt(np.mean(np.square(absError)))\n",
    "    return error_test\n",
    "            \n",
    "# create starting value of itas, gamas, S, w\n",
    "\n",
    "itas = set_itas(-4, 0, num = 5)\n",
    "gamas = set_gamas(-6, -1, num = 5)\n",
    "S = set_S(200, 800, num = 5)\n",
    "w = np.array(np.ones(XVal.shape[1])).reshape(-1,1)\n",
    "\n",
    "# Compute the min(RSME) and find the best value of S, 𝜆, 𝜂\n",
    "rmse_min, ita, gama, s = find_better_parameters(gamas, itas, S, XTrain, yTrain, XVal, yVal)\n",
    "print('RMSE_min:', rmse_min, 'ita:', ita, 'gama:', gama, 's:', s)\n"
   ]
  },
  {
   "cell_type": "markdown",
   "metadata": {},
   "source": [
    "## 1.5 Test stage \n",
    "\n",
    "We now know which one is the best model, according to the validation data. We will now put together the training data and the validation data, perform the preprocessing as we did before, this is, treat the missing values and standardise the inputs. We will train the model again using the minibatch stochastic gradient descent and finally compute the RMSE over the test data.\n",
    "\n",
    "\n",
    "### Question 1.c: combine the original training and original validation data and perform the preprocessing again to this new data (2 marks)\n",
    "\n",
    "Put together the original training and validation dataset and perform the same preprocessing steps than before, these are: \n",
    "\n",
    "* for each feature, impute the missing values with the mean values of the non-missing values (**1 mark**) \n",
    "\n",
    "* stardardise the new training set (**1 mark**).\n",
    "\n",
    "#### Question 1.c Answer"
   ]
  },
  {
   "cell_type": "code",
   "execution_count": 274,
   "metadata": {},
   "outputs": [],
   "source": [
    "# combining the unproc_training data and  validation data\n",
    "data_train_combine_unproc = air_quality.iloc[index[0:N+Nval], :].copy()\n",
    "data_train_combine_impute = impute(data_train_combine_unproc, ncols, col_names)\n",
    "\n",
    "#saving the mean and std data\n",
    "train_combine_mean_data = save_mean_data(data_train_combine_impute)\n",
    "train_combine_std_data = save_std_data(data_train_combine_impute)\n",
    "\n",
    "#standardlising the combine data\n",
    "data_train_combine_proc = standardise_data(data_train_combine_impute, train_combine_mean_data, train_combine_std_data, col_names)\n",
    "\n",
    "#print(data_train_combine_proc)"
   ]
  },
  {
   "cell_type": "markdown",
   "metadata": {},
   "source": [
    "### Question 1.d: Preprocess the test data, train the model and predict over the test data (3 marks)\n",
    "\n",
    "Preprocess the test data and train a new model using the new training set. Finally, report the RMSE over the test set:\n",
    "\n",
    "* Preprocess the test data by imputing the missing data and standardising it (**1 mark**). \n",
    "\n",
    "* Use the best values of $\\gamma$, $\\eta$ and $S$ found in the validation set and train a new regularised linear model with stochastic gradient descent (**1 mark**).\n",
    "\n",
    "* Report the RMSE over the test data (**1 mark**).\n",
    "\n",
    "#### Question 1.d Answer"
   ]
  },
  {
   "cell_type": "code",
   "execution_count": 287,
   "metadata": {},
   "outputs": [
    {
     "name": "stdout",
     "output_type": "stream",
     "text": [
      "w: [[ 2.14215137]\n",
      " [ 0.35075786]\n",
      " [ 0.47926837]\n",
      " [ 0.11954783]\n",
      " [ 0.50145882]\n",
      " [ 0.04118728]\n",
      " [ 0.19232418]\n",
      " [ 0.33241691]\n",
      " [-0.28105951]\n",
      " [-0.16904974]\n",
      " [-0.13068197]\n",
      " [-0.00738052]]\n",
      "the RMSE over the test data:  0.4977296547216286\n"
     ]
    }
   ],
   "source": [
    "# Preprocess the test data by imputing the missing data and standardising it\n",
    "data_test_impute = impute(data_test_unproc, ncols, col_names)\n",
    "\n",
    "test_mean_data = save_mean_data(data_test_impute)\n",
    "test_std_data = save_std_data(data_test_impute)\n",
    "\n",
    "data_test_proc = standardise_data(data_test_impute, test_mean_data, test_std_data, col_names)\n",
    "\n",
    "\n",
    "#split the X_train,y_train, x_test, y_test\n",
    "X_train, y_train = split_target_features(data_train_combine_proc)\n",
    "X_test, y_test = split_target_features(data_test_proc)\n",
    "\n",
    "#begin to compute w and rmse\n",
    "w = gradient_descent(X_train, y_train,w, gama, ita, s)\n",
    "print('w:', w)\n",
    "rmse = RMSE(w, y_test, X_test)\n",
    "print('the RMSE over the test data: ', rmse)"
   ]
  },
  {
   "cell_type": "markdown",
   "metadata": {},
   "source": [
    "# 2. Random forests (13 marks)\n",
    "\n",
    "**USE scikit-learn for the questions on this section.**\n",
    "\n",
    "In section 1, you used a regularised ridge regression model trained with SGD to create a linear predictive model. In this part of the assignment, you will use **scikit-learn** to train a random forest for regression over the air quality dataset.\n",
    "\n",
    "## 2.1 Preprocessing the data\n",
    "\n",
    "As mentioned before, the dataset has missing values tagged with a -200 value. Before doing any work with the training data, we want to make sure that we deal properly with the missing values. Furthermore, once we have dealt with the missing values, we want to standardise the training data. \n",
    "\n",
    "### Question 2.a: Pipeline for missing values and standardisation (3 marks)\n",
    "\n",
    "* Employ the `SimpleImputer` method in Scikit-learn to impute the missing values in each column using the mean value of the non-missing values, instead (**1 mark**).\n",
    "\n",
    "* Standardise the data by substracting the mean value for each feature and dividing the result by the standard deviation of each feature. Employ the `StandardScaler` method (**1 mark**).\n",
    "\n",
    "* Create a `Pipeline` that you can use to preprocess the data by filling missing values and then standardising the features (**1 mark**).\n",
    "\n",
    "#### Question 2.a Answer"
   ]
  },
  {
   "cell_type": "code",
   "execution_count": 276,
   "metadata": {},
   "outputs": [],
   "source": [
    "# Write your code here\n",
    "from sklearn.preprocessing import StandardScaler\n",
    "from sklearn.impute import SimpleImputer\n",
    "from sklearn.pipeline import Pipeline\n",
    "\n",
    "preprocessing = Pipeline(steps=[\n",
    "    ('imputer', SimpleImputer(strategy='mean')),\n",
    "    ('scaler', StandardScaler())\n",
    "])"
   ]
  },
  {
   "cell_type": "markdown",
   "metadata": {},
   "source": [
    "### Question 2.b: Use the Pipeline to fit the training data and transform the validation data (2 marks)\n",
    "\n",
    "In the previous question, you created a `Pipeline` for applying a `SimpleImputer` and a `StandardScaler`. Use the Pipeline to fit the training data (**1 mark**) and transform the validation data (**1 mark**).\n",
    "\n",
    "#### Question 2.b Answer"
   ]
  },
  {
   "cell_type": "code",
   "execution_count": 283,
   "metadata": {},
   "outputs": [
    {
     "name": "stdout",
     "output_type": "stream",
     "text": [
      "      PT08.S1(CO)   C6H6(GT)  PT08.S2(NMHC)  NOx(GT)  PT08.S3(NOx)  NO2(GT)  \\\n",
      "8577       991.75   3.047943         655.00   -200.0        875.75   -200.0   \n",
      "1599      1046.75   8.221421         908.25    119.0        912.50     89.0   \n",
      "4777       986.75   9.823749         971.00    218.0        876.25     68.0   \n",
      "494       1580.25  19.949354        1295.00    230.0        639.25    115.0   \n",
      "151       1071.50   5.415775         784.00     95.0       1065.50     90.0   \n",
      "...           ...        ...            ...      ...           ...      ...   \n",
      "7319      1210.25   8.826223         932.50    348.2        647.75    156.4   \n",
      "2544      1075.00  11.144589        1019.50    109.0        802.25    103.0   \n",
      "8937       988.75   3.239489         666.75    167.8        824.25    117.3   \n",
      "4690       877.75   3.843684         702.00     59.0        948.50     44.0   \n",
      "6269      1502.00  18.555071        1255.50    696.0        559.50    154.0   \n",
      "\n",
      "      PT08.S4(NO2)  PT08.S5(O3)          T         RH        AH  \n",
      "8577        887.00      1220.00   3.550000  49.675001  0.395997  \n",
      "1599       1458.25       981.25  19.224999  35.425001  0.781212  \n",
      "4777       1311.75       891.00  19.475000  32.975000  0.738428  \n",
      "494        1956.50      1488.75  13.225000  61.150000  0.925599  \n",
      "151        1441.75      1113.75  15.475000  51.875000  0.905875  \n",
      "...            ...          ...        ...        ...       ...  \n",
      "7319       1326.75      1093.50  15.675000  54.375000  0.961571  \n",
      "2544       1731.75       796.50  33.350000  23.950000  1.208474  \n",
      "8937       1047.50       942.50   8.925000  63.500000  0.726765  \n",
      "4690       1372.50       822.00  18.350000  70.799999  1.479373  \n",
      "6269       1568.25      2043.50  13.425000  68.999998  1.057873  \n",
      "\n",
      "[5372 rows x 11 columns]\n"
     ]
    }
   ],
   "source": [
    "#split the labels and features\n",
    "X_train_unproc_q2 = (data_training_unproc.iloc[:, 1:12]).copy()\n",
    "y_train_q2 = (data_training_unproc.iloc[:, 0]).copy()\n",
    "X_val_unproc_q2 = (data_val_unproc.iloc[:, 1:12]).copy()\n",
    "y_val_q2 = (data_val_unproc.iloc[:, 0]).copy()\n",
    "\n",
    "X_train_q2 = preprocessing.fit_transform(X_train_unproc_q2)\n",
    "X_val_q2 = preprocessing.transform(X_val_unproc_q2)\n",
    "print(X_train_unproc_q2)\n",
    "# print(X_val_q2)\n",
    "# print(col_names)\n",
    "# print(XTrain[0])"
   ]
  },
  {
   "cell_type": "markdown",
   "metadata": {},
   "source": [
    "## 2.2 Random forest to predict air quality \n",
    "\n",
    "We now use random forests to predict air quality. Remember that the tree ensemble in random forests is built by training individual regression trees on different subsets of the training data and using a subset of the available features. For regression, the prediction is the average of the individual predictions of each tree. Some of the parameters required in the Random Forest implementation in Scikit-learn include:\n",
    "\n",
    "Some of the additional parameters required in the Random Forest implementation in Scikit-learn include\n",
    "\n",
    "> **n_estimators** the total number of trees to train<p>\n",
    "**max_features** number of features to use as candidates for splitting at each tree node. <p>\n",
    "    **boostrap**: Whether bootstrap samples are used when building trees. If False, the whole dataset is used to build each tree.<p>\n",
    "   **max_samples**: If bootstrap is True, the number of samples to draw from X to train each base estimator."
   ]
  },
  {
   "cell_type": "markdown",
   "metadata": {},
   "source": [
    "### Question 2.c: train a random forest (4 marks)\n",
    "\n",
    "In this question, you will train a random forest for predicting over the validation data. Use cross-validation over the validation data to select the best set of paramaters for the random forest regressor. Parameters to include in your exploration are **n_estimators**, **max_features** and **max_samples**. Use `np.linspace` or `np.logspace` to define ranges of values to explore for each parameter and create a grid to be assessed over the validation data. Make sure you use the same validation data that was given to you.\n",
    "\n",
    "* Use `PredefinedSplit` to tell the cross validator which instances to use for training and which ones for validation (**1 mark**).\n",
    "\n",
    "* Create a grid of values to explore that include a range of at least five values for each parameter **n_estimators**, **max_features** and **max_samples** (**1 mark**). \n",
    "\n",
    "* Train a random forest for regression model that uses the grid of parameters you created before. Use `GridSearchCV` to find the best set of parameters by performing cross-validation over the predefined split. (**1 mark**).\n",
    "\n",
    "* Print the best values in your grid for **n_estimators**, **max_features** and **max_samples** (**1 mark**).\n",
    "\n",
    "#### Question 2.c Answer"
   ]
  },
  {
   "cell_type": "code",
   "execution_count": 284,
   "metadata": {},
   "outputs": [
    {
     "name": "stdout",
     "output_type": "stream",
     "text": [
      "(6523, 11)\n",
      "(6523,)\n"
     ]
    }
   ],
   "source": [
    "whole_X_train_q2 = np.vstack((X_train_q2, X_val_q2))\n",
    "whole_y_train_q2 = np.hstack((y_train_q2, y_val_q2))\n",
    "print(whole_X_train_q2.shape)\n",
    "print(whole_y_train_q2.shape)"
   ]
  },
  {
   "cell_type": "code",
   "execution_count": 285,
   "metadata": {},
   "outputs": [
    {
     "name": "stdout",
     "output_type": "stream",
     "text": [
      "Best values in my grid: {'max_features': 11, 'max_samples': 4000, 'n_estimators': 200}\n"
     ]
    }
   ],
   "source": [
    "from sklearn.model_selection import GridSearchCV\n",
    "from sklearn.model_selection import PredefinedSplit\n",
    "from sklearn.ensemble import RandomForestRegressor\n",
    "\n",
    "# Use PredefinedSplit to tell the cross validator which instances to use for\n",
    "# training and which ones for validation\n",
    "\n",
    "test_fold = np.zeros((np.shape(X_train_q2)[0] + np.shape(X_val_q2)[0], 1))\n",
    "test_fold[0:np.shape(X_train_q2)[0]] = -1\n",
    "ps = PredefinedSplit(test_fold)\n",
    "\n",
    "# Concatenating the attributes and the labels\n",
    "whole_X_train_q2 = np.vstack((X_train_q2, X_val_q2))\n",
    "whole_y_train_q2 = np.hstack((y_train_q2, y_val_q2))\n",
    "#Create a grid of values to explore parameters\n",
    "n_estimators_q2 = [20, 50, 100, 200, 300]\n",
    "max_samples_q2 =[500, 1000, 2000, 3000, 4000]\n",
    "max_features_q2 = [3, 5, 7, 9, 11]\n",
    "param_grid_q2 = dict(n_estimators = n_estimators_q2, max_samples = max_samples_q2, max_features = max_features_q2)\n",
    "grid_regression_q2 = GridSearchCV(RandomForestRegressor(), param_grid=param_grid_q2, cv=ps, scoring='neg_mean_squared_error')\n",
    "\n",
    "grid_regression_q2.fit(whole_X_train_q2, whole_y_train_q2)\n",
    "print('Best values in my grid:', grid_regression_q2.best_params_)"
   ]
  },
  {
   "cell_type": "markdown",
   "metadata": {},
   "source": [
    "### Question 2.d: train a new model over the whole training data and report the prediction over the test set (4 marks)\n",
    "\n",
    "\n",
    "Now that we have identified the best paramaters of the regression model, we use these parameters to train a new model over the whole training data (`data_training` plus `data_val`). We apply this model to the test set and report the performance.\n",
    "\n",
    "* Create a new preprocessing pipeline for taking care of the missing values and standardisation over the whole training data (**1 mark**).\n",
    "\n",
    "* Apply the created preprocessing pipeline to the test data (**1 mark**).\n",
    "\n",
    "* Fit a random forest regression model to the training data using the best parameters found in Question 2.c (**1 mark**).\n",
    "\n",
    "* Compute the RMSE over the test data and report the result (**1 mark**).\n",
    "\n",
    "#### Question 2.d Answer"
   ]
  },
  {
   "cell_type": "code",
   "execution_count": 290,
   "metadata": {},
   "outputs": [
    {
     "name": "stdout",
     "output_type": "stream",
     "text": [
      "The RMSE on the test set data is: 0.42782154347438534\n"
     ]
    }
   ],
   "source": [
    "from sklearn.metrics import mean_squared_error\n",
    "data_train_all_unproc_q2 = air_quality.iloc[index[0:N+Nval], :].copy()\n",
    "data_train_attributes_unproc = data_train_all_unproc_q2.iloc[:, 1:12].copy()\n",
    "data_train_labels = data_train_all_unproc_q2.iloc[:,0].copy()\n",
    "\n",
    "data_test_attributes_unproc = data_test_unproc.iloc[:, 1:12].copy()\n",
    "data_test_labels = data_test_unproc.iloc[:, 0].copy()\n",
    "\n",
    "data_train_attributes_q2 = preprocessing.fit_transform(data_train_attributes_unproc)\n",
    "data_test_attributes_q2 = preprocessing.transform(data_test_attributes_unproc)\n",
    "\n",
    "regr_q2 = RandomForestRegressor(n_estimators=grid_regression_q2.best_params_[\"n_estimators\"], max_samples=grid_regression_q2.best_params_[\"max_samples\"], max_features=grid_regression_q2.best_params_[\"max_features\"])\n",
    "regr_q2.fit(data_train_attributes_q2, data_train_labels)\n",
    "predictions_q2 = regr_q2.predict(data_test_attributes_q2)\n",
    "error_mod_q2 = np.sqrt(mean_squared_error(data_test_labels, predictions_q2))\n",
    "print('The RMSE on the test set data is:', error_mod_q2)"
   ]
  }
 ],
 "metadata": {
  "kernelspec": {
   "display_name": "Python 3",
   "language": "python",
   "name": "python3"
  },
  "language_info": {
   "codemirror_mode": {
    "name": "ipython",
    "version": 3
   },
   "file_extension": ".py",
   "mimetype": "text/x-python",
   "name": "python",
   "nbconvert_exporter": "python",
   "pygments_lexer": "ipython3",
   "version": "3.8.8"
  }
 },
 "nbformat": 4,
 "nbformat_minor": 4
}
