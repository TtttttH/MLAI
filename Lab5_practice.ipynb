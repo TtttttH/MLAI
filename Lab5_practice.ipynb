{
  "nbformat": 4,
  "nbformat_minor": 0,
  "metadata": {
    "colab": {
      "name": "Lab5-practice.ipynb",
      "provenance": [],
      "collapsed_sections": []
    },
    "kernelspec": {
      "name": "python3",
      "display_name": "Python 3"
    },
    "language_info": {
      "name": "python"
    }
  },
  "cells": [
    {
      "cell_type": "markdown",
      "metadata": {
        "id": "-meqgW3JXTMM"
      },
      "source": [
        "# Introduction to PyTorch\n",
        "### Modified by Thomas McDonald, 25th October 2021\n",
        "#### 28th October 2020 by Juan-Jose Giraldo and Mauricio A Alvarez\n",
        "\n",
        "#Tensors\n"
      ]
    },
    {
      "cell_type": "code",
      "metadata": {
        "colab": {
          "base_uri": "https://localhost:8080/"
        },
        "id": "tbRWDSRWYOB4",
        "outputId": "d1d7d7a2-320e-4044-bcf2-5a08d187e2c7"
      },
      "source": [
        "import torch\n",
        "\n",
        "y = torch.rand([2])\n",
        "print(\"Tensor 1D presents one index\", \"with shape\", y.shape, \":\\n\", y)\n",
        "\n",
        "y = torch.rand([2,3])\n",
        "print(\"Tensor 2D presents two indexes\", \"with shape\", y.shape, \":\\n\", y)"
      ],
      "execution_count": 6,
      "outputs": [
        {
          "output_type": "stream",
          "name": "stdout",
          "text": [
            "Tensor 1D presents one index with shape torch.Size([2]) :\n",
            " tensor([0.2790, 0.3298])\n",
            "Tensor 2D presents two indexes with shape torch.Size([2, 3]) :\n",
            " tensor([[0.1032, 0.9819, 0.4295],\n",
            "        [0.2178, 0.1582, 0.4195]])\n"
          ]
        }
      ]
    },
    {
      "cell_type": "code",
      "metadata": {
        "colab": {
          "base_uri": "https://localhost:8080/"
        },
        "id": "nA7-YAl6dUIr",
        "outputId": "a97376f0-306b-4ff2-ce7d-bcefd3d8465c"
      },
      "source": [
        "x = torch.tensor([4.0, 5.0], dtype=torch.float32)\n",
        "y = torch.tensor([2.0, 3.0], dtype=torch.float32)\n",
        "\n",
        "print(x * y)"
      ],
      "execution_count": 4,
      "outputs": [
        {
          "output_type": "stream",
          "name": "stdout",
          "text": [
            "tensor([ 8., 15.])\n"
          ]
        }
      ]
    },
    {
      "cell_type": "code",
      "metadata": {
        "colab": {
          "base_uri": "https://localhost:8080/"
        },
        "id": "K84_slSrdsSN",
        "outputId": "255b0c77-3461-4e24-e0bd-da59eea60077"
      },
      "source": [
        "x_zeros = torch.zeros([3, 4])\n",
        "print(\"x_zeros:\", x_zeros, \"with shape\", x_zeros.shape, \"\\n\")\n",
        "\n",
        "x_ones = torch.ones([2, 6])\n",
        "print(\"x_ones:\", x_ones, \"with shape\", x_ones.shape)"
      ],
      "execution_count": 5,
      "outputs": [
        {
          "output_type": "stream",
          "name": "stdout",
          "text": [
            "x_zeros: tensor([[0., 0., 0., 0.],\n",
            "        [0., 0., 0., 0.],\n",
            "        [0., 0., 0., 0.]]) with shape torch.Size([3, 4]) \n",
            "\n",
            "x_ones: tensor([[1., 1., 1., 1., 1., 1.],\n",
            "        [1., 1., 1., 1., 1., 1.]]) with shape torch.Size([2, 6])\n"
          ]
        }
      ]
    },
    {
      "cell_type": "code",
      "metadata": {
        "colab": {
          "base_uri": "https://localhost:8080/"
        },
        "id": "75kWXwDBeWtT",
        "outputId": "b095aa59-8711-4637-92a3-869982239091"
      },
      "source": [
        "y = torch.ones([3, 2])\n",
        "y_reshaped = y.view(6, 1)\n",
        "print(y_reshaped)"
      ],
      "execution_count": 7,
      "outputs": [
        {
          "output_type": "stream",
          "name": "stdout",
          "text": [
            "tensor([[1.],\n",
            "        [1.],\n",
            "        [1.],\n",
            "        [1.],\n",
            "        [1.],\n",
            "        [1.]])\n"
          ]
        }
      ]
    },
    {
      "cell_type": "code",
      "metadata": {
        "colab": {
          "base_uri": "https://localhost:8080/"
        },
        "id": "ls7AvgLJftN1",
        "outputId": "d572ba08-e889-47a2-830c-cd573eef340b"
      },
      "source": [
        "import numpy as np\n",
        "\n",
        "#tensor_torch to tensor numpy\n",
        "tensor_torch = torch.ones(3, 4)\n",
        "tensor_numpy = (tensor_torch.numpy())\n",
        "print(\"Array in numpy form with shape\", tensor_numpy.shape, \":\\n\", tensor_numpy)\n",
        "\n",
        "# tensor_numpy to tensor_torch\n",
        "tensor_np = np.random.randn(5, 8)\n",
        "tensor_numpy_to_torch = torch.from_numpy(tensor_np)\n",
        "print(\"\\nArray from Numpy to Torch with shape\",\n",
        "      tensor_numpy_to_torch.shape,\n",
        "      \":\\n\",\n",
        "      tensor_numpy_to_torch,\n",
        ")"
      ],
      "execution_count": 8,
      "outputs": [
        {
          "output_type": "stream",
          "name": "stdout",
          "text": [
            "Array in numpy form with shape (3, 4) :\n",
            " [[1. 1. 1. 1.]\n",
            " [1. 1. 1. 1.]\n",
            " [1. 1. 1. 1.]]\n",
            "\n",
            "Array from Numpy to Torch with shape torch.Size([5, 8]) :\n",
            " tensor([[ 0.9830,  1.3277, -0.8722, -1.2659,  1.4590,  0.8350,  1.5538,  0.4687],\n",
            "        [-0.6802, -1.5715,  1.7015, -0.7809, -0.7821,  0.4312,  1.2282,  1.8267],\n",
            "        [-1.7038,  0.3093, -0.3349,  0.6741, -1.1519, -0.7682, -1.5026, -0.9485],\n",
            "        [-0.3398, -0.0329,  1.6528, -1.1756, -0.1154,  0.5148,  0.0200,  0.0490],\n",
            "        [ 0.9520,  0.6144,  0.7618, -0.6923, -0.2568,  0.3789,  0.9268,  0.5412]],\n",
            "       dtype=torch.float64)\n"
          ]
        }
      ]
    },
    {
      "cell_type": "markdown",
      "metadata": {
        "id": "d-pS9dUrkLwC"
      },
      "source": [
        "Automatic Differentiation\n"
      ]
    },
    {
      "cell_type": "code",
      "metadata": {
        "colab": {
          "base_uri": "https://localhost:8080/"
        },
        "id": "867HafDKk2LT",
        "outputId": "850f3b63-5e9d-4aab-a7e1-62ecf2b9c764"
      },
      "source": [
        "x = torch.rand(3, requires_grad=True)\n",
        "print(x)"
      ],
      "execution_count": 9,
      "outputs": [
        {
          "output_type": "stream",
          "name": "stdout",
          "text": [
            "tensor([0.4629, 0.7003, 0.2672], requires_grad=True)\n"
          ]
        }
      ]
    },
    {
      "cell_type": "code",
      "metadata": {
        "colab": {
          "base_uri": "https://localhost:8080/"
        },
        "id": "621pRrfrk8ff",
        "outputId": "fbc6c3c8-3287-4ec1-f9da-c58f2c56eaba"
      },
      "source": [
        "x = torch.tensor([2.0])\n",
        "x.requires_grad_(True)\n",
        "y = x ** 2 + 5\n",
        "print(y)"
      ],
      "execution_count": 10,
      "outputs": [
        {
          "output_type": "stream",
          "name": "stdout",
          "text": [
            "tensor([9.], grad_fn=<AddBackward0>)\n"
          ]
        }
      ]
    },
    {
      "cell_type": "code",
      "metadata": {
        "colab": {
          "base_uri": "https://localhost:8080/"
        },
        "id": "5g49wGxJlIrT",
        "outputId": "a9019f5a-2951-492b-f536-d83acc3b2d41"
      },
      "source": [
        "#y.backward() # dy/dx\n",
        "print(\"PyTorch gradient:\", x.grad)\n",
        "\n",
        "#compare with the analytical gradient of y = x**2 + 5\n",
        "with torch.no_grad():\n",
        "  dy_dx = 2 * x\n",
        "print(\"Analytical gradient:\", dy_dx)"
      ],
      "execution_count": 15,
      "outputs": [
        {
          "output_type": "stream",
          "name": "stdout",
          "text": [
            "PyTorch gradient: tensor([4.])\n",
            "Analytical gradient: tensor([4.])\n"
          ]
        }
      ]
    },
    {
      "cell_type": "code",
      "metadata": {
        "colab": {
          "base_uri": "https://localhost:8080/"
        },
        "id": "v-ft8KEPZ5Rb",
        "outputId": "5b2ff18f-7d9f-477f-b972-575fa59ee58e"
      },
      "source": [
        "#evaluate a vector w = [w_1, ... w_d],to compute another vector g.T gi = wi^2 +5\n",
        "w = torch.tensor([1.0, 2.0, 3.0])\n",
        "w.requires_grad_(True)\n",
        "\n",
        "g = w ** 2 + 5\n",
        "\n",
        "#the values [1.0, 1.0, 1.0] are multiplied by the gradient g.backward(vect);\n",
        "vect = torch.tensor([1.0, 1.0, 1.0], dtype=torch.float32)\n",
        "g.backward(vect)\n",
        "print(w.grad)"
      ],
      "execution_count": 5,
      "outputs": [
        {
          "output_type": "stream",
          "name": "stdout",
          "text": [
            "tensor([2., 4., 6.])\n"
          ]
        }
      ]
    },
    {
      "cell_type": "code",
      "metadata": {
        "colab": {
          "base_uri": "https://localhost:8080/"
        },
        "id": "uV2Ef4TkhFYY",
        "outputId": "8b79cf39-b6a2-4ea9-a574-fc3d538c81b0"
      },
      "source": [
        "w = torch.tensor([1.0,2.0,3.0])\n",
        "w.requires_grad_(True)\n",
        "\n",
        "for i in range(3):\n",
        "  g = w**2+5\n",
        "  g.backward(torch.ones_like(w))\n",
        "  print(w.grad)\n",
        " # w.grad.zero_()"
      ],
      "execution_count": 7,
      "outputs": [
        {
          "output_type": "stream",
          "name": "stdout",
          "text": [
            "tensor([2., 4., 6.])\n",
            "tensor([ 4.,  8., 12.])\n",
            "tensor([ 6., 12., 18.])\n"
          ]
        }
      ]
    },
    {
      "cell_type": "code",
      "metadata": {
        "colab": {
          "base_uri": "https://localhost:8080/"
        },
        "id": "aPGucZV4o4t1",
        "outputId": "5b5465ea-bb1b-49d0-ed74-873a584e11dd"
      },
      "source": [
        "#Question 1\n",
        "x = torch.tensor([2.0])\n",
        "x.requires_grad_(True)\n",
        "\n",
        "y = torch.exp(- (x**2) - 2*x - torch.sin(x))\n",
        "\n",
        "y.backward()\n",
        "print(\"PyTorch gradient:\", x.grad)\n",
        "\n",
        "with torch.no_grad():\n",
        "  dy_dx = dy_dx = (\n",
        "        torch.exp(-2 * x) * torch.exp(-torch.sin(x)) * (-2 * x * torch.exp(-(x ** 2)))\n",
        "        + torch.exp(-(x ** 2)) * torch.exp(-torch.sin(x)) * (-2 * torch.exp(-2 * x))\n",
        "        + torch.exp(-(x ** 2))\n",
        "        * torch.exp(-2 * x)\n",
        "        * (-torch.cos(x) * torch.exp(-torch.sin(x)))\n",
        "    )\n",
        "print(\"Analytical gradient:\", dy_dx)"
      ],
      "execution_count": 19,
      "outputs": [
        {
          "output_type": "stream",
          "name": "stdout",
          "text": [
            "PyTorch gradient: tensor([-0.0008])\n",
            "Analytical gradient: tensor([-0.0008])\n"
          ]
        }
      ]
    },
    {
      "cell_type": "code",
      "metadata": {
        "id": "iXTCHMcBrXNN"
      },
      "source": [
        "#Linear Regression Basic Example\n",
        "#y = wx + b\n",
        "n_data = 100\n",
        "x = torch.rand(n_data)\n",
        "true_w = 1.5\n",
        "true_bias = 1.0\n",
        "\n",
        "y = true_w * x + true_bias + 0.05 * torch.randn(n_data)\n",
        "w = torch.tensor(0.0, dtype=torch.float32, requires_grad=True)\n",
        "bias = torch.tensor(0.0, dtype=torch.float32, requires_grad=True)\n"
      ],
      "execution_count": 20,
      "outputs": []
    },
    {
      "cell_type": "markdown",
      "metadata": {
        "id": "vfAr_WqrwsDp"
      },
      "source": [
        ""
      ]
    },
    {
      "cell_type": "code",
      "metadata": {
        "id": "GZJA4VzzwtLy"
      },
      "source": [
        "def model_prediction(x, w, bias):\n",
        "  return w * x + bias\n",
        "\n",
        "def loss_function(y, y_pred):\n",
        "  return ((y_pred - y)**2).mean() # Mean Squared Error (MSE)"
      ],
      "execution_count": 3,
      "outputs": []
    },
    {
      "cell_type": "code",
      "metadata": {
        "colab": {
          "base_uri": "https://localhost:8080/"
        },
        "id": "SRxEpQd1xN33",
        "outputId": "b7ad7255-022e-49e6-ba4f-f1f811369af1"
      },
      "source": [
        "max_n_iter = 500\n",
        "step_size = 0.1\n",
        "\n",
        "for n_iter in range(max_n_iter):\n",
        "\n",
        "  #Evaluate the prediction and the loss\n",
        "  y_approx = model_prediction(x, w, bias)\n",
        "  my_loss = loss_function(y, y_approx)\n",
        "\n",
        "  my_loss.backward()\n",
        "\n",
        "  with torch.no_grad():\n",
        "    ##!!!we can't code w = w - (step_size*w.grad) here,it will change\n",
        "    ## the ram position of w, and clean up the graident of w\n",
        "    w -= (step_size * w.grad)\n",
        "    bias -=step_size * bias.grad\n",
        "\n",
        "  #Zero the gradients to avoid acummulation\n",
        "  w.grad.zero_()\n",
        "  bias.grad.zero_()\n",
        "\n",
        "  #We print the loss, and the parameters values every 50 iterations\n",
        "  if n_iter % 50 == 0:\n",
        "    print(\n",
        "        f\"Interation = {n_iter+1}, Loss = {my_loss:.8f}, w ={w:.3f}, bias = {bias:.3f}\"\n",
        "    )\n",
        "\n",
        "print(f\"Interation = {n_iter+1}, Loss = {my_loss:.8f}, w = {w:.3f}, bias = {bias:.3f}\")"
      ],
      "execution_count": 21,
      "outputs": [
        {
          "output_type": "stream",
          "name": "stdout",
          "text": [
            "Interation = 1, Loss = 3.31468868, w =0.206, bias = 0.353\n",
            "Interation = 51, Loss = 0.01448638, w =1.135, bias = 1.201\n",
            "Interation = 101, Loss = 0.00542440, w =1.317, bias = 1.102\n",
            "Interation = 151, Loss = 0.00311240, w =1.408, bias = 1.052\n",
            "Interation = 201, Loss = 0.00252252, w =1.455, bias = 1.026\n",
            "Interation = 251, Loss = 0.00237203, w =1.478, bias = 1.014\n",
            "Interation = 301, Loss = 0.00233363, w =1.490, bias = 1.007\n",
            "Interation = 351, Loss = 0.00232384, w =1.496, bias = 1.004\n",
            "Interation = 401, Loss = 0.00232134, w =1.499, bias = 1.002\n",
            "Interation = 451, Loss = 0.00232070, w =1.500, bias = 1.001\n",
            "Interation = 500, Loss = 0.00232054, w = 1.501, bias = 1.001\n"
          ]
        }
      ]
    },
    {
      "cell_type": "code",
      "metadata": {
        "colab": {
          "base_uri": "https://localhost:8080/",
          "height": 265
        },
        "id": "2gZ-MwK7ZJGe",
        "outputId": "189561b0-ec95-4305-9550-c561248508bb"
      },
      "source": [
        "#Plot the result\n",
        "import matplotlib.pyplot as plt\n",
        "\n",
        "%matplotlib inline\n",
        "plt.plot(x, y, \"x\")\n",
        "x_test= torch.linspace(0, 1, 10)\n",
        "with torch.no_grad():\n",
        "  y_pred = model_prediction(x_test, w, bias)\n",
        "plt.plot(x_test, y_pred)\n",
        "plt.show()"
      ],
      "execution_count": 22,
      "outputs": [
        {
          "output_type": "display_data",
          "data": {
            "image/png": "[encoded data removed]",
            "text/plain": [
              "<Figure size 432x288 with 1 Axes>"
            ]
          },
          "metadata": {
            "needs_background": "light"
          }
        }
      ]
    },
    {
      "cell_type": "code",
      "metadata": {
        "colab": {
          "base_uri": "https://localhost:8080/"
        },
        "id": "oey8UwR2dN-t",
        "outputId": "3aa14717-7a1e-4ba7-e5bc-271a43d46595"
      },
      "source": [
        "# This cell is simply to download the winequality-red.csv dataset from its root url\n",
        "import urllib.request\n",
        "\n",
        "urllib.request.urlretrieve(\n",
        "    \"https://archive.ics.uci.edu/ml/machine-learning-databases/wine-quality/winequality-red.csv\",\n",
        "    \"./winequality-red.csv\",\n",
        ")"
      ],
      "execution_count": 23,
      "outputs": [
        {
          "output_type": "execute_result",
          "data": {
            "text/plain": [
              "('./winequality-red.csv', <http.client.HTTPMessage at 0x7fd8eda58710>)"
            ]
          },
          "metadata": {},
          "execution_count": 23
        }
      ]
    },
    {
      "cell_type": "code",
      "metadata": {
        "colab": {
          "base_uri": "https://localhost:8080/"
        },
        "id": "hIZWIiHpeoB3",
        "outputId": "4c494c9e-5dd4-442e-ec80-7d5f66e04d32"
      },
      "source": [
        "import numpy as np\n",
        "\n",
        "wine_np = np.loadtxt(\"./winequality-red.csv\", dtype=np.float32, delimiter=\";\", skiprows=1)\n",
        "wine_torch = torch.from_numpy(wine_np)\n",
        "wine_torch"
      ],
      "execution_count": 25,
      "outputs": [
        {
          "output_type": "execute_result",
          "data": {
            "text/plain": [
              "tensor([[ 7.4000,  0.7000,  0.0000,  ...,  0.5600,  9.4000,  5.0000],\n",
              "        [ 7.8000,  0.8800,  0.0000,  ...,  0.6800,  9.8000,  5.0000],\n",
              "        [ 7.8000,  0.7600,  0.0400,  ...,  0.6500,  9.8000,  5.0000],\n",
              "        ...,\n",
              "        [ 6.3000,  0.5100,  0.1300,  ...,  0.7500, 11.0000,  6.0000],\n",
              "        [ 5.9000,  0.6450,  0.1200,  ...,  0.7100, 10.2000,  5.0000],\n",
              "        [ 6.0000,  0.3100,  0.4700,  ...,  0.6600, 11.0000,  6.0000]])"
            ]
          },
          "metadata": {},
          "execution_count": 25
        }
      ]
    },
    {
      "cell_type": "code",
      "metadata": {
        "colab": {
          "base_uri": "https://localhost:8080/"
        },
        "id": "Qz_v7xNSfS2L",
        "outputId": "c4ecbd9b-a175-4be5-f80d-46bb50edb2f3"
      },
      "source": [
        "import urllib.request\n",
        "\n",
        "urllib.request.urlretrieve(\n",
        "    \"https://archive.ics.uci.edu/ml/machine-learning-databases/00560/SeoulBikeData.csv\",\n",
        "    \"./SeoulBikeData.csv\",\n",
        ")"
      ],
      "execution_count": 26,
      "outputs": [
        {
          "output_type": "execute_result",
          "data": {
            "text/plain": [
              "('./SeoulBikeData.csv', <http.client.HTTPMessage at 0x7fd8ec99c490>)"
            ]
          },
          "metadata": {},
          "execution_count": 26
        }
      ]
    },
    {
      "cell_type": "code",
      "metadata": {
        "id": "pGfmn6OcfZgm"
      },
      "source": [
        "import pandas as pd\n",
        "from sklearn.model_selection import train_test_split\n",
        "from sklearn.preprocessing import OneHotEncoder\n",
        "from sklearn.preprocessing import StandardScaler\n",
        "from sklearn.compose import ColumnTransformer\n",
        "\n",
        "bike_sharing_data = pd.read_csv(\"SeoulBikeData.csv\", encoding=\"unicode_escape\")\n",
        "bike_sharing_data = bike_sharing_data.drop(\"Date\", axis=1)\n",
        "\n",
        "for col in [\"Rented Bike Count\", \"Hour\", \"Humidity(%)\", \"Visibility (10m)\"]:\n",
        "    bike_sharing_data[col] = bike_sharing_data[col].astype(\"float64\")\n",
        "\n",
        "attributes_cat = [\"Seasons\", \"Holiday\", \"Functioning Day\"]\n",
        "attributes_num = [\n",
        "    \"Hour\",\n",
        "    \"Temperature(°C)\",\n",
        "    \"Humidity(%)\",\n",
        "    \"Wind speed (m/s)\",\n",
        "    \"Visibility (10m)\",\n",
        "    \"Dew point temperature(°C)\",\n",
        "    \"Solar Radiation (MJ/m2)\",\n",
        "    \"Rainfall(mm)\",\n",
        "    \"Snowfall (cm)\",\n",
        "]\n",
        "\n",
        "# We split our dataset for training and testing\n",
        "bs_train_set, bs_test_set = train_test_split(\n",
        "    bike_sharing_data, test_size=0.15, random_state=42\n",
        ")\n",
        "\n",
        "full_transform = ColumnTransformer(\n",
        "    [\n",
        "        (\"num\", StandardScaler(), attributes_num),\n",
        "        (\"cat\", OneHotEncoder(), attributes_cat),\n",
        "    ]\n",
        ")\n",
        "\n",
        "# We separate the features from the labels\n",
        "bs_train_set_attributes = bs_train_set.drop(\"Rented Bike Count\", axis=1)\n",
        "bs_test_set_attributes = bs_test_set.drop(\"Rented Bike Count\", axis=1)\n",
        "bs_train_set_labels = bs_train_set[\"Rented Bike Count\"]\n",
        "bs_test_set_labels = bs_test_set[\"Rented Bike Count\"]"
      ],
      "execution_count": 27,
      "outputs": []
    },
    {
      "cell_type": "code",
      "metadata": {
        "colab": {
          "base_uri": "https://localhost:8080/"
        },
        "id": "FObBmXBNhgsx",
        "outputId": "c29d3118-e75d-47f0-8888-9d50c2d5771b"
      },
      "source": [
        "print(bs_test_set_labels)\n",
        "print(bs_test_set_labels.values)\n",
        "\n",
        "print(bs_train_set_attributes)\n",
        "print(bs_train_set_attributes.values)"
      ],
      "execution_count": 29,
      "outputs": [
        {
          "output_type": "stream",
          "name": "stdout",
          "text": [
            "6056    1728.0\n",
            "5556     822.0\n",
            "5990     658.0\n",
            "7674    2716.0\n",
            "3319    1083.0\n",
            "         ...  \n",
            "6224    1918.0\n",
            "4295    1247.0\n",
            "2770     415.0\n",
            "1244     258.0\n",
            "4607    1191.0\n",
            "Name: Rented Bike Count, Length: 1314, dtype: float64\n",
            "[1728.  822.  658. ...  415.  258. 1191.]\n",
            "      Hour  Temperature(°C)  Humidity(%)  ...  Seasons     Holiday  Functioning Day\n",
            "5852  20.0             34.5         62.0  ...   Summer  No Holiday              Yes\n",
            "7568   8.0              6.0         64.0  ...   Autumn  No Holiday              Yes\n",
            "5970  18.0             32.8         63.0  ...   Summer  No Holiday              Yes\n",
            "6791  23.0             21.2         56.0  ...   Autumn  No Holiday              Yes\n",
            "576    0.0             -0.6         64.0  ...   Winter     Holiday              Yes\n",
            "...    ...              ...          ...  ...      ...         ...              ...\n",
            "5734  22.0             29.9         74.0  ...   Summer  No Holiday              Yes\n",
            "5191   7.0             23.5         90.0  ...   Summer  No Holiday              Yes\n",
            "5390  14.0             29.5         62.0  ...   Summer  No Holiday              Yes\n",
            "860   20.0             -3.4         51.0  ...   Winter  No Holiday              Yes\n",
            "7270  22.0             19.3         55.0  ...   Autumn  No Holiday              Yes\n",
            "\n",
            "[7446 rows x 12 columns]\n",
            "[[20.0 34.5 62.0 ... 'Summer' 'No Holiday' 'Yes']\n",
            " [8.0 6.0 64.0 ... 'Autumn' 'No Holiday' 'Yes']\n",
            " [18.0 32.8 63.0 ... 'Summer' 'No Holiday' 'Yes']\n",
            " ...\n",
            " [14.0 29.5 62.0 ... 'Summer' 'No Holiday' 'Yes']\n",
            " [20.0 -3.4 51.0 ... 'Winter' 'No Holiday' 'Yes']\n",
            " [22.0 19.3 55.0 ... 'Autumn' 'No Holiday' 'Yes']]\n"
          ]
        }
      ]
    },
    {
      "cell_type": "code",
      "metadata": {
        "id": "61x8Mkxqfi3N"
      },
      "source": [
        "bs_train_set_attributes_prepared = full_transform.fit_transform(bs_train_set_attributes)\n",
        "bs_test_set_attributes_prepared = full_transform.transform(bs_test_set_attributes)\n",
        "\n",
        "train_torch = torch.from_numpy(bs_train_set_attributes_prepared)\n",
        "\n",
        "#The line below adds a feature vector of ones in order to allow the bias weight\n",
        "#to be represented in a unique weight vector\n",
        "train_torch = torch.cat((torch.ones([train_torch.shape[0], 1], dtype=torch.float64), train_torch),1)\n",
        "test_torch = torch.from_numpy(bs_test_set_attributes_prepared)\n",
        "\n",
        "test_torch = torch.cat((torch.ones([test_torch.shape[0], 1], dtype=torch.float64), test_torch), 1)\n",
        "\n",
        "train_label_torch = torch.from_numpy(bs_train_set_labels.values)\n",
        "test_label_torch = torch.from_numpy(bs_test_set_labels.values)\n"
      ],
      "execution_count": 31,
      "outputs": []
    },
    {
      "cell_type": "code",
      "metadata": {
        "colab": {
          "base_uri": "https://localhost:8080/"
        },
        "id": "iJYw7xHAjEqd",
        "outputId": "dc04d72c-5af0-4701-9181-30f4b107e8b9"
      },
      "source": [
        "print(test_label_torch)\n",
        "print(test_torch)\n",
        "print(bs_train_set_attributes)\n",
        "print(bs_train_set_attributes_prepared)\n",
        "print(train_torch.shape[0])\n",
        "print(train_torch.shape[1])"
      ],
      "execution_count": 36,
      "outputs": [
        {
          "output_type": "stream",
          "name": "stdout",
          "text": [
            "tensor([1728.,  822.,  658.,  ...,  415.,  258., 1191.], dtype=torch.float64)\n",
            "tensor([[ 1.0000, -0.5031,  1.1949,  ...,  1.0000,  0.0000,  1.0000],\n",
            "        [ 1.0000,  0.0753,  1.6478,  ...,  1.0000,  0.0000,  1.0000],\n",
            "        [ 1.0000,  0.3645,  1.7652,  ...,  1.0000,  0.0000,  1.0000],\n",
            "        ...,\n",
            "        [ 1.0000, -0.2139, -0.2475,  ...,  1.0000,  0.0000,  1.0000],\n",
            "        [ 1.0000,  1.2320, -1.0609,  ...,  1.0000,  0.0000,  1.0000],\n",
            "        [ 1.0000,  1.6658,  0.6666,  ...,  1.0000,  0.0000,  1.0000]],\n",
            "       dtype=torch.float64)\n",
            "      Hour  Temperature(°C)  Humidity(%)  ...  Seasons     Holiday  Functioning Day\n",
            "5852  20.0             34.5         62.0  ...   Summer  No Holiday              Yes\n",
            "7568   8.0              6.0         64.0  ...   Autumn  No Holiday              Yes\n",
            "5970  18.0             32.8         63.0  ...   Summer  No Holiday              Yes\n",
            "6791  23.0             21.2         56.0  ...   Autumn  No Holiday              Yes\n",
            "576    0.0             -0.6         64.0  ...   Winter     Holiday              Yes\n",
            "...    ...              ...          ...  ...      ...         ...              ...\n",
            "5734  22.0             29.9         74.0  ...   Summer  No Holiday              Yes\n",
            "5191   7.0             23.5         90.0  ...   Summer  No Holiday              Yes\n",
            "5390  14.0             29.5         62.0  ...   Summer  No Holiday              Yes\n",
            "860   20.0             -3.4         51.0  ...   Winter  No Holiday              Yes\n",
            "7270  22.0             19.3         55.0  ...   Autumn  No Holiday              Yes\n",
            "\n",
            "[7446 rows x 12 columns]\n",
            "[[ 1.23200811  1.80709064  0.18530571 ...  1.          0.\n",
            "   1.        ]\n",
            " [-0.50310299 -0.58290743  0.28308315 ...  1.          0.\n",
            "   1.        ]\n",
            " [ 0.94282293  1.66452935  0.23419443 ...  1.          0.\n",
            "   1.        ]\n",
            " ...\n",
            " [ 0.36445256  1.38779273  0.18530571 ...  1.          0.\n",
            "   1.        ]\n",
            " [ 1.23200811 -1.3711875  -0.35247021 ...  1.          0.\n",
            "   1.        ]\n",
            " [ 1.5211933   0.532425   -0.15691533 ...  1.          0.\n",
            "   1.        ]]\n",
            "7446\n",
            "18\n"
          ]
        }
      ]
    },
    {
      "cell_type": "code",
      "metadata": {
        "id": "_zc0R8PCmQbY"
      },
      "source": [
        "#We create the vector of weights to be optimised in the linear regression model\n",
        "dim = train_torch.shape[1]\n",
        "w = torch.randn([dim, 1], dtype=torch.float64)\n",
        "w.requires_grad_(True)\n",
        "\n",
        "def model_prediction_lr(x, w):\n",
        "  #matmul(x,w) = x @ w, mul(x,w) = x * w\n",
        "  return torch.matmul(x,w)\n",
        "\n",
        "def loss_function_lr(y, y_pred):\n",
        "  return ((y_pred - y) ** 2).mean()"
      ],
      "execution_count": 37,
      "outputs": []
    },
    {
      "cell_type": "code",
      "metadata": {
        "colab": {
          "base_uri": "https://localhost:8080/"
        },
        "id": "E8X47kXFEqKr",
        "outputId": "bda86677-e35a-4e8b-84d5-e88f716cf709"
      },
      "source": [
        "max_n_iter = 1000\n",
        "step_size = 0.000001\n",
        "\n",
        "for n_iter in range(max_n_iter):\n",
        "  y_pred = model_prediction_lr(train_torch, w)\n",
        "  my_loss = loss_function_lr(train_label_torch, y_pred)\n",
        "\n",
        "  my_loss.backward()\n",
        "\n",
        "  with torch.no_grad():\n",
        "    w -=(step_size * w.grad)\n",
        "  \n",
        "  w.grad.zero_()\n",
        "\n",
        "  if n_iter % 50 == 0:\n",
        "    print(\n",
        "        f\"Iteration = {n_iter+1}, Loss = {my_loss:.8f}\"\n",
        "    )\n",
        "\n",
        "print(\n",
        "        f\"Iteration = {n_iter+1}, Loss = {my_loss:.8f}\"\n",
        "    )"
      ],
      "execution_count": 49,
      "outputs": [
        {
          "output_type": "stream",
          "name": "stdout",
          "text": [
            "Iteration = 1, Loss = 416503.29065965\n",
            "Iteration = 51, Loss = 416503.29065791\n",
            "Iteration = 101, Loss = 416503.29065616\n",
            "Iteration = 151, Loss = 416503.29065441\n",
            "Iteration = 201, Loss = 416503.29065267\n",
            "Iteration = 251, Loss = 416503.29065092\n",
            "Iteration = 301, Loss = 416503.29064918\n",
            "Iteration = 351, Loss = 416503.29064743\n",
            "Iteration = 401, Loss = 416503.29064568\n",
            "Iteration = 451, Loss = 416503.29064394\n",
            "Iteration = 501, Loss = 416503.29064219\n",
            "Iteration = 551, Loss = 416503.29064045\n",
            "Iteration = 601, Loss = 416503.29063870\n",
            "Iteration = 651, Loss = 416503.29063696\n",
            "Iteration = 701, Loss = 416503.29063521\n",
            "Iteration = 751, Loss = 416503.29063346\n",
            "Iteration = 801, Loss = 416503.29063172\n",
            "Iteration = 851, Loss = 416503.29062997\n",
            "Iteration = 901, Loss = 416503.29062823\n",
            "Iteration = 951, Loss = 416503.29062648\n",
            "Iteration = 1000, Loss = 416503.29062477\n"
          ]
        }
      ]
    },
    {
      "cell_type": "code",
      "metadata": {
        "colab": {
          "base_uri": "https://localhost:8080/"
        },
        "id": "23HpPKNcLAPj",
        "outputId": "a6b25500-eb73-4bb9-ecae-fdee3cbfb77d"
      },
      "source": [
        "y_pred_test = model_prediction_lr(test_torch, w)\n",
        "MSE_test = loss_function_lr(test_label_torch, y_pred_test)\n",
        "print(\n",
        "    \"The Root Mean Squared Error over the test set is:\",\n",
        "    np.sqrt(MSE_test.detach().numpy()),\n",
        ")"
      ],
      "execution_count": 51,
      "outputs": [
        {
          "output_type": "stream",
          "name": "stdout",
          "text": [
            "The Root Mean Squared Error over the test set is: 642.6415782170296\n"
          ]
        }
      ]
    },
    {
      "cell_type": "code",
      "metadata": {
        "colab": {
          "base_uri": "https://localhost:8080/"
        },
        "id": "GYeGBPR0QIOH",
        "outputId": "607b0513-cc37-40d3-c57f-c3c836ac8711"
      },
      "source": [
        "#Question 2\n",
        "\n",
        "jim = train_torch.shape[1]\n",
        "w = torch.zeros([jim, 1], dtype=torch.float64)\n",
        "w.requires_grad_(True)\n",
        "\n",
        "def model_prediction_lr_q2(x, w):\n",
        "  return torch.exp(torch.matmul(x, w))\n",
        "\n",
        "def loss_function_lr_q2(y, y_pred):\n",
        "  return ((y_pred - y) ** 2).mean()\n",
        "\n",
        "max_n_iter = 1000\n",
        "step_size = 0.000001\n",
        "for n_iter in range(max_n_iter):\n",
        "  y_approx = model_prediction_lr_q2(train_torch, w)\n",
        "  my_loss = loss_function_lr(train_label_torch, y_approx)\n",
        "\n",
        "  my_loss.backward()\n",
        "\n",
        "  with torch.no_grad():\n",
        "    w -= (step_size * w.grad)\n",
        "\n",
        "  w.grad.zero_()\n",
        "\n",
        "  if n_iter % 20 ==0 or n_iter == max_n_iter - 1:\n",
        "    print(f\"Iterotion = {n_iter+1}, Loss = {my_loss:.8f}\")"
      ],
      "execution_count": 59,
      "outputs": [
        {
          "output_type": "stream",
          "name": "stdout",
          "text": [
            "Iterotion = 1, Loss = 913361.08246038\n",
            "Iterotion = 21, Loss = 913226.76417907\n",
            "Iterotion = 41, Loss = 913064.00528737\n",
            "Iterotion = 61, Loss = 912862.69877708\n",
            "Iterotion = 81, Loss = 912607.30833449\n",
            "Iterotion = 101, Loss = 912272.66140669\n",
            "Iterotion = 121, Loss = 911815.11938133\n",
            "Iterotion = 141, Loss = 911151.88219921\n",
            "Iterotion = 161, Loss = 910104.51806454\n",
            "Iterotion = 181, Loss = 908205.80859799\n",
            "Iterotion = 201, Loss = 903729.04583934\n",
            "Iterotion = 221, Loss = 881394.91981947\n",
            "Iterotion = 241, Loss = 475479.28927359\n",
            "Iterotion = 261, Loss = 482250.07505938\n",
            "Iterotion = 281, Loss = 454625.36239110\n",
            "Iterotion = 301, Loss = 537212.91533062\n",
            "Iterotion = 321, Loss = 452240.14107909\n",
            "Iterotion = 341, Loss = 450588.39970749\n",
            "Iterotion = 361, Loss = 453331.97574422\n",
            "Iterotion = 381, Loss = 438707.57712215\n",
            "Iterotion = 401, Loss = 463715.82033191\n",
            "Iterotion = 421, Loss = 464525.80558762\n",
            "Iterotion = 441, Loss = 441067.74671164\n",
            "Iterotion = 461, Loss = 425308.47297023\n",
            "Iterotion = 481, Loss = 445322.08242790\n",
            "Iterotion = 501, Loss = 420350.94130428\n",
            "Iterotion = 521, Loss = 447986.75766477\n",
            "Iterotion = 541, Loss = 443336.97944296\n",
            "Iterotion = 561, Loss = 421654.80855498\n",
            "Iterotion = 581, Loss = 471899.68899482\n",
            "Iterotion = 601, Loss = 429164.37604797\n",
            "Iterotion = 621, Loss = 622150.23222120\n",
            "Iterotion = 641, Loss = 445963.71888260\n",
            "Iterotion = 661, Loss = 468719.17837862\n",
            "Iterotion = 681, Loss = 445587.38558787\n",
            "Iterotion = 701, Loss = 435971.03451776\n",
            "Iterotion = 721, Loss = 433129.37739219\n",
            "Iterotion = 741, Loss = 506065.42217644\n",
            "Iterotion = 761, Loss = 483409.95270950\n",
            "Iterotion = 781, Loss = 518156.64300629\n",
            "Iterotion = 801, Loss = 488215.16920668\n",
            "Iterotion = 821, Loss = 435743.85559855\n",
            "Iterotion = 841, Loss = 428812.65600388\n",
            "Iterotion = 861, Loss = 463203.41587303\n",
            "Iterotion = 881, Loss = 434760.60303315\n",
            "Iterotion = 901, Loss = 515417.80917358\n",
            "Iterotion = 921, Loss = 519072.43643115\n",
            "Iterotion = 941, Loss = 483245.51319913\n",
            "Iterotion = 961, Loss = 421794.02114080\n",
            "Iterotion = 981, Loss = 477367.15812778\n",
            "Iterotion = 1000, Loss = 424266.98522324\n"
          ]
        }
      ]
    },
    {
      "cell_type": "code",
      "metadata": {
        "colab": {
          "base_uri": "https://localhost:8080/"
        },
        "id": "6sGkJhjnHWob",
        "outputId": "f9c744fe-526c-4dcd-8007-d4a907b3fa46"
      },
      "source": [
        "y_pred_test_q2 = model_prediction_lr_q2(test_torch, w)\n",
        "MSE_test_q2 = loss_function_lr_q2(test_label_torch, y_pred_test_q2)\n",
        "print(\"The Root Mean Squared Error over the test set is :\",\n",
        "      np.sqrt(MSE_test_q2.detach().numpy()),\n",
        ")"
      ],
      "execution_count": 62,
      "outputs": [
        {
          "output_type": "stream",
          "name": "stdout",
          "text": [
            "The Root Mean Squared Error over the test set is : 664.0261980795752\n"
          ]
        }
      ]
    },
    {
      "cell_type": "code",
      "metadata": {
        "colab": {
          "base_uri": "https://localhost:8080/"
        },
        "id": "TxF5PDcigcEw",
        "outputId": "b5bf5b46-a512-4f0e-ad0a-6cf305ce1488"
      },
      "source": [
        "print(w)"
      ],
      "execution_count": 60,
      "outputs": [
        {
          "output_type": "execute_result",
          "data": {
            "text/plain": [
              "tensor([[ 2.8254],\n",
              "        [ 0.0190],\n",
              "        [-0.0332],\n",
              "        [-0.0476],\n",
              "        [ 0.0201],\n",
              "        [ 0.0187],\n",
              "        [ 0.0927],\n",
              "        [ 0.0278],\n",
              "        [-0.0154],\n",
              "        [-0.0182],\n",
              "        [ 0.7215],\n",
              "        [ 0.7206],\n",
              "        [ 0.6797],\n",
              "        [ 0.7036],\n",
              "        [ 1.4496],\n",
              "        [ 1.3757],\n",
              "        [ 1.4549],\n",
              "        [ 1.3704]], dtype=torch.float64, requires_grad=True)"
            ]
          },
          "metadata": {},
          "execution_count": 60
        }
      ]
    }
  ]
}