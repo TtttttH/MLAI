{
  "nbformat": 4,
  "nbformat_minor": 0,
  "metadata": {
    "anaconda-cloud": {},
    "kernelspec": {
      "display_name": "Python 3",
      "language": "python",
      "name": "python3"
    },
    "language_info": {
      "codemirror_mode": {
        "name": "ipython",
        "version": 3
      },
      "file_extension": ".py",
      "mimetype": "text/x-python",
      "name": "python",
      "nbconvert_exporter": "python",
      "pygments_lexer": "ipython3",
      "version": "3.7.1"
    },
    "colab": {
      "name": "Lab 1 - Probability and Introduction to Jupyter Notebooks.ipynb”的副本”的副本”的副本",
      "provenance": [],
      "collapsed_sections": [],
      "include_colab_link": true
    }
  },
  "cells": [
    {
      "cell_type": "markdown",
      "metadata": {
        "id": "view-in-github",
        "colab_type": "text"
      },
      "source": [
        "<a href=\"https://colab.research.google.com/github/TtttttH/MLAI/blob/main/Lab_1_Probability_and_Introduction_to_Jupyter_Notebooks_ipynb%E2%80%9D%E7%9A%84%E5%89%AF%E6%9C%AC%E2%80%9D%E7%9A%84%E5%89%AF%E6%9C%AC%E2%80%9D%E7%9A%84%E5%89%AF%E6%9C%AC.ipynb\" target=\"_parent\"><img src=\"https://colab.research.google.com/assets/colab-badge.svg\" alt=\"Open In Colab\"/></a>"
      ]
    },
    {
      "cell_type": "markdown",
      "metadata": {
        "id": "kulxjKk0dSF_"
      },
      "source": [
        "# Probability and an Introduction to Jupyter, Python and Pandas\n",
        "\n",
        "### 24th September 2021 modified by Mauricio A Álvarez\n",
        "\n",
        "#### 29th September 2015 Neil Lawrence\n",
        "\n",
        "Welcome to the Machine Learning and Adaptive Intelligence course. In this course we will introduce the basic concepts of machine learning and data science. In particular we will look at tools and techniques that describe how to model a dataset with the purpose of prediction. An integrated part of that is how we approach data with the computer. We are choosing to do that with the tool you see in front of you: the Jupyter Notebook. \n",
        "\n",
        "Classical software engineering demands a large amount of design and testing. In data analysis, testing remains very important, but the design is often evolving. The design evolves through a process known as *exploratory data analysis*. You will learn some of the techniques of exploratory data analysis in this course.\n",
        "\n",
        "In this Notebook, we will use a dataset to compute basic probability quantities. This will allow you to see how those concepts we review in the Lecture can actually be translated to Python code so that you can automate computation of basic probabilities. This will later on be useful to build basic probabilistic prediction models."
      ]
    },
    {
      "cell_type": "markdown",
      "metadata": {
        "id": "vnpDTxHmdSGC"
      },
      "source": [
        "### Linear Algebra, Probability and Differential Calculus\n",
        "\n",
        "In this module, we will be making use of linear algebra (matrix operations including inverse, inner products, determinant etc), probability (sum rule of probability, product rule of probability), and the calculus of differentiation (and integration!). Depending on your background, a new concept for you will be multivariate differentiation and integration. This combines linear algebra and differential calculus. These techniques are vital in understanding probability distributions over high dimensional distributions. \n",
        "\n",
        "### Choice of Language\n",
        "\n",
        "In this module, we will be using Python for our programming language. A prerequisite of attending this course is that you have learnt at least one programming language in the past. It is not our objective to teach you python. At Level 4 and Masters we expect our students to be able pick up a language as they go. If you have not experienced python before it may be worth your while spending some time understanding the language. There are resources available for you to do this [here](https://docs.python.org/3/tutorial/index.html) that are based on the standard console. An introduction to the Jupyter notebook (formerly known as the IPython notebook) is available [here](https://ipython.readthedocs.io/en/stable/). "
      ]
    },
    {
      "cell_type": "markdown",
      "metadata": {
        "id": "NV2b8iZUdSGC"
      },
      "source": [
        "### Question 1\n",
        "\n",
        "Who invented python and why? What was the language designed to do? What is the origin of the name \"python\"? Is the language a compiled language? Is it an object orientated language?"
      ]
    },
    {
      "cell_type": "markdown",
      "metadata": {
        "id": "Y_VDVxUpdSGD"
      },
      "source": [
        "#### Question 1 Answer\n",
        "\n",
        "1. Guido van Rossum invented python as a successor to ABC programming language in late 1980s.\n",
        "2. Python was designed to  help programmers write clear, logical code for small and large-scale projects.\n",
        "3.The inspiration for the name came from BBC’s TV Show – ‘Monty Python’s Flying Circus’, as he was a big fan of the TV show and also he wanted a short, unique and slightly mysterious name for his invention and hence he named it Python.\n",
        "4.No,it's a interpreted language.\n",
        "5.Yes,it's an object orientated language."
      ]
    },
    {
      "cell_type": "markdown",
      "metadata": {
        "id": "J1ubyh6HdSGD"
      },
      "source": [
        "## Choice of Environment\n",
        "\n",
        "We are working in the Jupyter notebook (formerly known as the IPython notebook). It provides an environment for interacting with data in a natural way which is reproducible. We will be learning how to make use of the notebook throughout the course. The notebook allows us to combine code with descriptions, interactive visualizations, plots etc. In fact it allows us to do many of the things we need for data science. Notebooks can also be easily shared through the internet for ease of communication of ideas. The box this text is written in is a *markdown* box. Below we have a *code* box."
      ]
    },
    {
      "cell_type": "code",
      "metadata": {
        "colab": {
          "base_uri": "https://localhost:8080/"
        },
        "id": "VHrdPHqRdSGE",
        "outputId": "f97bb8b3-022d-4f9b-de4c-a9e50bc29404"
      },
      "source": [
        "print(\"This is the Jupyter notebook\")\n",
        "print(\"It provides a platform for:\")\n",
        "words = ['Open', 'Data', 'Science']\n",
        "from random import shuffle\n",
        "for i in range(3):\n",
        "    shuffle(words)\n",
        "    print(' '.join(words))\n"
      ],
      "execution_count": null,
      "outputs": [
        {
          "output_type": "stream",
          "name": "stdout",
          "text": [
            "This is the Jupyter notebook\n",
            "It provides a platform for:\n",
            "Data Science Open\n",
            "Science Data Open\n",
            "Data Open Science\n"
          ]
        }
      ]
    },
    {
      "cell_type": "markdown",
      "metadata": {
        "id": "A2PjggtmdSGF"
      },
      "source": [
        "Have a play with the code in the above box. Think about the following questions: what is the difference between `CTRL-enter` and `SHIFT-enter` in running the code? What does the command `shuffle` do? Can you find out by typing `shuffle?` in a code box?\n",
        "Once you've had a play with the code we can load in some data using the `pandas` library for data analysis. "
      ]
    },
    {
      "cell_type": "markdown",
      "metadata": {
        "id": "i58EqgcYdSGG"
      },
      "source": [
        "## Movie Body Count Example\n",
        "\n",
        "There is a crisis in the movie industry, deaths are occuring on a massive scale. In every feature film the body count is tolling up. But what is the cause of all these deaths? Let's try and investigate.\n",
        "\n",
        "For our first example of data science, we take inspiration from work by [researchers at NJIT](https://www.theswarmlab.com/blog/rvspython/r/2014/02/02/r-vs-python-round-2-2/). They researchers were comparing the qualities of Python with R. They put together a data base of results from the  the \"Internet Movie Database\" and the [Movie Body Count](http://www.moviebodycounts.com/) website which will allow us to do some preliminary investigation."
      ]
    },
    {
      "cell_type": "markdown",
      "metadata": {
        "id": "qaZDBTf3dSGG"
      },
      "source": [
        "We will make use of data that has already been 'scraped' from the [Movie Body Count](http://www.moviebodycounts.com/) website. Code and the data is available at [a github repository](https://github.com/sjmgarnier/R-vs-Python/tree/master/Deadliest%20movies%20scrape/code). Git is a version control system and github is a website that hosts code that can be accessed through git. By sharing the code publicly through github, the authors are licensing the code publicly and allowing you to access and edit it. As well as accessing the code via github you can also [download the zip file](https://github.com/sjmgarnier/R-vs-Python/archive/master.zip). But let's do that in python"
      ]
    },
    {
      "cell_type": "code",
      "metadata": {
        "colab": {
          "base_uri": "https://localhost:8080/"
        },
        "id": "vVso_qZ6dSGH",
        "outputId": "260c1eaf-6a5b-4bca-88a0-8fe2a6659319"
      },
      "source": [
        "import urllib.request\n",
        "urllib.request.urlretrieve('https://github.com/sjmgarnier/R-vs-Python/archive/master.zip', './master.zip')"
      ],
      "execution_count": null,
      "outputs": [
        {
          "output_type": "execute_result",
          "data": {
            "text/plain": [
              "('./master.zip', <http.client.HTTPMessage at 0x7f03230e6810>)"
            ]
          },
          "metadata": {},
          "execution_count": 2
        }
      ]
    },
    {
      "cell_type": "markdown",
      "metadata": {
        "id": "DgthPKtKdSGH"
      },
      "source": [
        "Once the data is downloaded we can unzip it into the same directory where we are running the lab class. "
      ]
    },
    {
      "cell_type": "code",
      "metadata": {
        "id": "6icJ0M0HdSGI"
      },
      "source": [
        "import zipfile\n",
        "zip = zipfile.ZipFile('./master.zip', 'r')\n",
        "for name in zip.namelist():\n",
        "    zip.extract(name, '.')"
      ],
      "execution_count": null,
      "outputs": []
    },
    {
      "cell_type": "code",
      "metadata": {
        "id": "r8B4_TkUdSGI"
      },
      "source": [
        "import pandas as pd # import the pandas library into a namespace called pd\n",
        "film_deaths = pd.read_csv('./R-vs-Python-master/Deadliest movies scrape/code/film-death-counts-Python.csv')\n"
      ],
      "execution_count": null,
      "outputs": []
    },
    {
      "cell_type": "markdown",
      "metadata": {
        "id": "rCVj0XNJdSGI"
      },
      "source": [
        "Once it is loaded in the data can be summarized using the `describe` method in pandas.\n"
      ]
    },
    {
      "cell_type": "code",
      "metadata": {
        "colab": {
          "base_uri": "https://localhost:8080/",
          "height": 300
        },
        "id": "zyl2Ta2DdSGI",
        "outputId": "6dd6f8e3-e8be-45f7-83bc-cb5ebdaba3eb"
      },
      "source": [
        "film_deaths.describe()"
      ],
      "execution_count": null,
      "outputs": [
        {
          "output_type": "execute_result",
          "data": {
            "text/html": [
              "<div>\n",
              "<style scoped>\n",
              "    .dataframe tbody tr th:only-of-type {\n",
              "        vertical-align: middle;\n",
              "    }\n",
              "\n",
              "    .dataframe tbody tr th {\n",
              "        vertical-align: top;\n",
              "    }\n",
              "\n",
              "    .dataframe thead th {\n",
              "        text-align: right;\n",
              "    }\n",
              "</style>\n",
              "<table border=\"1\" class=\"dataframe\">\n",
              "  <thead>\n",
              "    <tr style=\"text-align: right;\">\n",
              "      <th></th>\n",
              "      <th>Year</th>\n",
              "      <th>Body_Count</th>\n",
              "      <th>Length_Minutes</th>\n",
              "      <th>IMDB_Rating</th>\n",
              "    </tr>\n",
              "  </thead>\n",
              "  <tbody>\n",
              "    <tr>\n",
              "      <th>count</th>\n",
              "      <td>421.000000</td>\n",
              "      <td>421.000000</td>\n",
              "      <td>421.000000</td>\n",
              "      <td>421.000000</td>\n",
              "    </tr>\n",
              "    <tr>\n",
              "      <th>mean</th>\n",
              "      <td>1996.491686</td>\n",
              "      <td>53.287411</td>\n",
              "      <td>115.427553</td>\n",
              "      <td>6.882898</td>\n",
              "    </tr>\n",
              "    <tr>\n",
              "      <th>std</th>\n",
              "      <td>10.913210</td>\n",
              "      <td>82.068035</td>\n",
              "      <td>21.652287</td>\n",
              "      <td>1.110788</td>\n",
              "    </tr>\n",
              "    <tr>\n",
              "      <th>min</th>\n",
              "      <td>1949.000000</td>\n",
              "      <td>0.000000</td>\n",
              "      <td>79.000000</td>\n",
              "      <td>2.000000</td>\n",
              "    </tr>\n",
              "    <tr>\n",
              "      <th>25%</th>\n",
              "      <td>1991.000000</td>\n",
              "      <td>11.000000</td>\n",
              "      <td>100.000000</td>\n",
              "      <td>6.200000</td>\n",
              "    </tr>\n",
              "    <tr>\n",
              "      <th>50%</th>\n",
              "      <td>2000.000000</td>\n",
              "      <td>28.000000</td>\n",
              "      <td>111.000000</td>\n",
              "      <td>6.900000</td>\n",
              "    </tr>\n",
              "    <tr>\n",
              "      <th>75%</th>\n",
              "      <td>2005.000000</td>\n",
              "      <td>61.000000</td>\n",
              "      <td>127.000000</td>\n",
              "      <td>7.700000</td>\n",
              "    </tr>\n",
              "    <tr>\n",
              "      <th>max</th>\n",
              "      <td>2009.000000</td>\n",
              "      <td>836.000000</td>\n",
              "      <td>201.000000</td>\n",
              "      <td>9.300000</td>\n",
              "    </tr>\n",
              "  </tbody>\n",
              "</table>\n",
              "</div>"
            ],
            "text/plain": [
              "              Year  Body_Count  Length_Minutes  IMDB_Rating\n",
              "count   421.000000  421.000000      421.000000   421.000000\n",
              "mean   1996.491686   53.287411      115.427553     6.882898\n",
              "std      10.913210   82.068035       21.652287     1.110788\n",
              "min    1949.000000    0.000000       79.000000     2.000000\n",
              "25%    1991.000000   11.000000      100.000000     6.200000\n",
              "50%    2000.000000   28.000000      111.000000     6.900000\n",
              "75%    2005.000000   61.000000      127.000000     7.700000\n",
              "max    2009.000000  836.000000      201.000000     9.300000"
            ]
          },
          "metadata": {},
          "execution_count": 5
        }
      ]
    },
    {
      "cell_type": "markdown",
      "metadata": {
        "id": "BOZQD0NQdSGI"
      },
      "source": [
        "In jupyter and jupyter notebook it is possible to see a list of all possible functions and attributes by typing the name of the object followed by .<Tab> for example in the above case if we type film_deaths.<Tab> it show the columns available (these are attributes in pandas dataframes) such as Body_Count, and also functions, such as .describe().\n",
        "\n",
        "For functions we can also see the documentation about the function by following the name with a question mark. This will open a box with documentation at the bottom which can be closed with the x button."
      ]
    },
    {
      "cell_type": "code",
      "metadata": {
        "id": "Bnxy8ORRdSGJ"
      },
      "source": [
        "film_deaths.describe?"
      ],
      "execution_count": null,
      "outputs": []
    },
    {
      "cell_type": "code",
      "metadata": {
        "colab": {
          "base_uri": "https://localhost:8080/"
        },
        "id": "C6YycsZgdSGJ",
        "outputId": "9a196c2f-3e10-43ed-b8d6-b837acdebb1e"
      },
      "source": [
        "# print(film_deaths['Year'])\n",
        "print(film_deaths['Body_Count'])"
      ],
      "execution_count": null,
      "outputs": [
        {
          "output_type": "stream",
          "name": "stdout",
          "text": [
            "0        7\n",
            "1       45\n",
            "2        0\n",
            "3        7\n",
            "4       10\n",
            "      ... \n",
            "416     10\n",
            "417     91\n",
            "418      3\n",
            "419      4\n",
            "420    140\n",
            "Name: Body_Count, Length: 421, dtype: int64\n"
          ]
        }
      ]
    },
    {
      "cell_type": "markdown",
      "metadata": {
        "id": "DhhC9YOhdSGJ"
      },
      "source": [
        "This shows the number of deaths per film across the years. We can plot the data as follows."
      ]
    },
    {
      "cell_type": "code",
      "metadata": {
        "colab": {
          "base_uri": "https://localhost:8080/",
          "height": 282
        },
        "id": "9N5yMqLIdSGJ",
        "outputId": "6d0433a9-b0d6-4166-a4d8-b9af5005eb6c"
      },
      "source": [
        "# this ensures the plot appears in the web browser\n",
        "%matplotlib inline \n",
        "import pylab as plt # this imports the plotting library in python\n",
        "\n",
        "plt.plot(film_deaths['Year'], film_deaths['Body_Count'], 'rx')"
      ],
      "execution_count": null,
      "outputs": [
        {
          "output_type": "execute_result",
          "data": {
            "text/plain": [
              "[<matplotlib.lines.Line2D at 0x7ff027f7ead0>]"
            ]
          },
          "metadata": {},
          "execution_count": 7
        },
        {
          "output_type": "display_data",
          "data": {
            "image/png": "[encoded data removed]",
            "text/plain": [
              "<Figure size 432x288 with 1 Axes>"
            ]
          },
          "metadata": {
            "needs_background": "light"
          }
        }
      ]
    },
    {
      "cell_type": "markdown",
      "metadata": {
        "id": "apPJtuOLdSGK"
      },
      "source": [
        "You may be curious what the arguments we give to plt.plot are for, now is the perfect time to look at the documentation"
      ]
    },
    {
      "cell_type": "code",
      "metadata": {
        "id": "kQgNrrPYdSGK",
        "colab": {
          "base_uri": "https://localhost:8080/"
        },
        "outputId": "33879b62-5795-43d2-f320-4b79ead78874"
      },
      "source": [
        "plt.plot?"
      ],
      "execution_count": null,
      "outputs": [
        {
          "output_type": "stream",
          "name": "stdout",
          "text": [
            "Object `plt.plot` not found.\n"
          ]
        }
      ]
    },
    {
      "cell_type": "markdown",
      "metadata": {
        "id": "OPYmyT8RdSGK"
      },
      "source": [
        "We immediately note that some films have a lot of deaths, which prevent us seeing the detail of the main body of films. First lets identify the films with the most deaths."
      ]
    },
    {
      "cell_type": "code",
      "metadata": {
        "colab": {
          "base_uri": "https://localhost:8080/",
          "height": 818
        },
        "id": "1bWsfHBpdSGK",
        "outputId": "d3e2b20c-a3a8-41f0-e1f2-d0aaccce6a6c"
      },
      "source": [
        "film_deaths[film_deaths['Body_Count']>200]"
      ],
      "execution_count": null,
      "outputs": [
        {
          "output_type": "execute_result",
          "data": {
            "text/html": [
              "<div>\n",
              "<style scoped>\n",
              "    .dataframe tbody tr th:only-of-type {\n",
              "        vertical-align: middle;\n",
              "    }\n",
              "\n",
              "    .dataframe tbody tr th {\n",
              "        vertical-align: top;\n",
              "    }\n",
              "\n",
              "    .dataframe thead th {\n",
              "        text-align: right;\n",
              "    }\n",
              "</style>\n",
              "<table border=\"1\" class=\"dataframe\">\n",
              "  <thead>\n",
              "    <tr style=\"text-align: right;\">\n",
              "      <th></th>\n",
              "      <th>Film</th>\n",
              "      <th>Year</th>\n",
              "      <th>Body_Count</th>\n",
              "      <th>MPAA_Rating</th>\n",
              "      <th>Genre</th>\n",
              "      <th>Director</th>\n",
              "      <th>Actors</th>\n",
              "      <th>Length_Minutes</th>\n",
              "      <th>IMDB_Rating</th>\n",
              "    </tr>\n",
              "  </thead>\n",
              "  <tbody>\n",
              "    <tr>\n",
              "      <th>60</th>\n",
              "      <td>Dip huet gaai tau</td>\n",
              "      <td>1990</td>\n",
              "      <td>214</td>\n",
              "      <td>NaN</td>\n",
              "      <td>Crime|Drama|Thriller</td>\n",
              "      <td>John Woo</td>\n",
              "      <td>Tony Leung Chiu Wai|Jacky Cheung|Waise Lee|Sim...</td>\n",
              "      <td>136</td>\n",
              "      <td>7.7</td>\n",
              "    </tr>\n",
              "    <tr>\n",
              "      <th>117</th>\n",
              "      <td>Equilibrium</td>\n",
              "      <td>2002</td>\n",
              "      <td>236</td>\n",
              "      <td>R</td>\n",
              "      <td>Action|Drama|Sci-Fi|Thriller</td>\n",
              "      <td>Kurt Wimmer</td>\n",
              "      <td>Christian Bale|Dominic Purcell|Sean Bean|Chris...</td>\n",
              "      <td>107</td>\n",
              "      <td>7.6</td>\n",
              "    </tr>\n",
              "    <tr>\n",
              "      <th>154</th>\n",
              "      <td>Grindhouse</td>\n",
              "      <td>2007</td>\n",
              "      <td>310</td>\n",
              "      <td>R</td>\n",
              "      <td>Action|Horror|Thriller</td>\n",
              "      <td>Robert Rodriguez|Eli Roth|Quentin Tarantino|Ed...</td>\n",
              "      <td>Kurt Russell|Zoë Bell|Rosario Dawson|Vanessa F...</td>\n",
              "      <td>191</td>\n",
              "      <td>7.7</td>\n",
              "    </tr>\n",
              "    <tr>\n",
              "      <th>159</th>\n",
              "      <td>Lat sau san taam</td>\n",
              "      <td>1992</td>\n",
              "      <td>307</td>\n",
              "      <td>R</td>\n",
              "      <td>Action|Crime|Drama|Thriller</td>\n",
              "      <td>John Woo</td>\n",
              "      <td>Yun-Fat Chow|Tony Leung Chiu Wai|Teresa Mo|Phi...</td>\n",
              "      <td>128</td>\n",
              "      <td>8.0</td>\n",
              "    </tr>\n",
              "    <tr>\n",
              "      <th>193</th>\n",
              "      <td>Kingdom of Heaven</td>\n",
              "      <td>2005</td>\n",
              "      <td>610</td>\n",
              "      <td>R</td>\n",
              "      <td>Action|Adventure|Drama|History|War</td>\n",
              "      <td>Ridley Scott</td>\n",
              "      <td>Martin Hancock|Michael Sheen|Nathalie Cox|Eriq...</td>\n",
              "      <td>144</td>\n",
              "      <td>7.2</td>\n",
              "    </tr>\n",
              "    <tr>\n",
              "      <th>206</th>\n",
              "      <td>The Last Samurai</td>\n",
              "      <td>2003</td>\n",
              "      <td>558</td>\n",
              "      <td>R</td>\n",
              "      <td>Action|Drama|History|War</td>\n",
              "      <td>Edward Zwick</td>\n",
              "      <td>Ken Watanabe|Tom Cruise|William Atherton|Chad ...</td>\n",
              "      <td>154</td>\n",
              "      <td>7.7</td>\n",
              "    </tr>\n",
              "    <tr>\n",
              "      <th>222</th>\n",
              "      <td>The Lord of the Rings: The Two Towers</td>\n",
              "      <td>2002</td>\n",
              "      <td>468</td>\n",
              "      <td>PG-13</td>\n",
              "      <td>Action|Adventure|Fantasy</td>\n",
              "      <td>Peter Jackson</td>\n",
              "      <td>Bruce Allpress|Sean Astin|John Bach|Sala Baker...</td>\n",
              "      <td>179</td>\n",
              "      <td>8.8</td>\n",
              "    </tr>\n",
              "    <tr>\n",
              "      <th>223</th>\n",
              "      <td>The Lord of the Rings: The Return of the King</td>\n",
              "      <td>2003</td>\n",
              "      <td>836</td>\n",
              "      <td>PG-13</td>\n",
              "      <td>Action|Adventure|Fantasy</td>\n",
              "      <td>Peter Jackson</td>\n",
              "      <td>Noel Appleby|Alexandra Astin|Sean Astin|David ...</td>\n",
              "      <td>201</td>\n",
              "      <td>8.9</td>\n",
              "    </tr>\n",
              "    <tr>\n",
              "      <th>291</th>\n",
              "      <td>Rambo</td>\n",
              "      <td>2008</td>\n",
              "      <td>247</td>\n",
              "      <td>R</td>\n",
              "      <td>Action|Thriller|War</td>\n",
              "      <td>Sylvester Stallone</td>\n",
              "      <td>Sylvester Stallone|Julie Benz|Matthew Marsden|...</td>\n",
              "      <td>92</td>\n",
              "      <td>7.1</td>\n",
              "    </tr>\n",
              "    <tr>\n",
              "      <th>317</th>\n",
              "      <td>Saving Private Ryan</td>\n",
              "      <td>1998</td>\n",
              "      <td>255</td>\n",
              "      <td>R</td>\n",
              "      <td>Action|Drama|War</td>\n",
              "      <td>Steven Spielberg</td>\n",
              "      <td>Tom Hanks|Tom Sizemore|Edward Burns|Barry Pepp...</td>\n",
              "      <td>169</td>\n",
              "      <td>8.6</td>\n",
              "    </tr>\n",
              "    <tr>\n",
              "      <th>349</th>\n",
              "      <td>Starship Troopers</td>\n",
              "      <td>1997</td>\n",
              "      <td>256</td>\n",
              "      <td>R</td>\n",
              "      <td>Action|Sci-Fi</td>\n",
              "      <td>Paul Verhoeven</td>\n",
              "      <td>Casper Van Dien|Dina Meyer|Denise Richards|Jak...</td>\n",
              "      <td>129</td>\n",
              "      <td>7.2</td>\n",
              "    </tr>\n",
              "    <tr>\n",
              "      <th>375</th>\n",
              "      <td>Titanic</td>\n",
              "      <td>1997</td>\n",
              "      <td>307</td>\n",
              "      <td>PG-13</td>\n",
              "      <td>Drama|Romance</td>\n",
              "      <td>James Cameron</td>\n",
              "      <td>Leonardo DiCaprio|Kate Winslet|Billy Zane|Kath...</td>\n",
              "      <td>194</td>\n",
              "      <td>7.7</td>\n",
              "    </tr>\n",
              "    <tr>\n",
              "      <th>382</th>\n",
              "      <td>Troy</td>\n",
              "      <td>2004</td>\n",
              "      <td>572</td>\n",
              "      <td>R</td>\n",
              "      <td>Adventure|Drama</td>\n",
              "      <td>Wolfgang Petersen</td>\n",
              "      <td>Julian Glover|Brian Cox|Nathan Jones|Adoni Mar...</td>\n",
              "      <td>163</td>\n",
              "      <td>7.2</td>\n",
              "    </tr>\n",
              "    <tr>\n",
              "      <th>406</th>\n",
              "      <td>We Were Soldiers</td>\n",
              "      <td>2002</td>\n",
              "      <td>305</td>\n",
              "      <td>R</td>\n",
              "      <td>Action|Drama|History|War</td>\n",
              "      <td>Randall Wallace</td>\n",
              "      <td>Mel Gibson|Madeleine Stowe|Greg Kinnear|Sam El...</td>\n",
              "      <td>138</td>\n",
              "      <td>7.1</td>\n",
              "    </tr>\n",
              "  </tbody>\n",
              "</table>\n",
              "</div>"
            ],
            "text/plain": [
              "                                              Film  ...  IMDB_Rating\n",
              "60                               Dip huet gaai tau  ...          7.7\n",
              "117                                    Equilibrium  ...          7.6\n",
              "154                                     Grindhouse  ...          7.7\n",
              "159                               Lat sau san taam  ...          8.0\n",
              "193                              Kingdom of Heaven  ...          7.2\n",
              "206                               The Last Samurai  ...          7.7\n",
              "222          The Lord of the Rings: The Two Towers  ...          8.8\n",
              "223  The Lord of the Rings: The Return of the King  ...          8.9\n",
              "291                                          Rambo  ...          7.1\n",
              "317                            Saving Private Ryan  ...          8.6\n",
              "349                              Starship Troopers  ...          7.2\n",
              "375                                        Titanic  ...          7.7\n",
              "382                                           Troy  ...          7.2\n",
              "406                               We Were Soldiers  ...          7.1\n",
              "\n",
              "[14 rows x 9 columns]"
            ]
          },
          "metadata": {},
          "execution_count": 8
        }
      ]
    },
    {
      "cell_type": "markdown",
      "metadata": {
        "id": "F7wtkBnCdSGK"
      },
      "source": [
        "Here we are using the command `film_deaths['Body_Count']>200` to index the films in the pandas data frame which have over 200 deaths. To sort them in order we can also use the `sort` command. The result of this command on its own is a data series of `True` and `False` values. However, when it is passed to the `film_deaths` data frame it returns a new data frame which contains only those values for which the data series is `True`. We can also sort the result. To sort the result by the values in the `Body_Count` column in *descending* order we use the following command."
      ]
    },
    {
      "cell_type": "code",
      "metadata": {
        "colab": {
          "base_uri": "https://localhost:8080/",
          "height": 1000
        },
        "id": "3eGb9l-sdSGL",
        "outputId": "7478a673-7a1e-4349-c78a-0b8d7c791969"
      },
      "source": [
        "# film_deaths[film_deaths['Body_Count']>200].sort_values('Body_Count', ascending=False)\n",
        "film_deaths[film_deaths['Body_Count']>200].sort_values('Body_Count', ascending=False)"
      ],
      "execution_count": null,
      "outputs": [
        {
          "output_type": "execute_result",
          "data": {
            "text/html": [
              "<div>\n",
              "<style scoped>\n",
              "    .dataframe tbody tr th:only-of-type {\n",
              "        vertical-align: middle;\n",
              "    }\n",
              "\n",
              "    .dataframe tbody tr th {\n",
              "        vertical-align: top;\n",
              "    }\n",
              "\n",
              "    .dataframe thead th {\n",
              "        text-align: right;\n",
              "    }\n",
              "</style>\n",
              "<table border=\"1\" class=\"dataframe\">\n",
              "  <thead>\n",
              "    <tr style=\"text-align: right;\">\n",
              "      <th></th>\n",
              "      <th>Film</th>\n",
              "      <th>Year</th>\n",
              "      <th>Body_Count</th>\n",
              "      <th>MPAA_Rating</th>\n",
              "      <th>Genre</th>\n",
              "      <th>Director</th>\n",
              "      <th>Actors</th>\n",
              "      <th>Length_Minutes</th>\n",
              "      <th>IMDB_Rating</th>\n",
              "    </tr>\n",
              "  </thead>\n",
              "  <tbody>\n",
              "    <tr>\n",
              "      <th>223</th>\n",
              "      <td>The Lord of the Rings: The Return of the King</td>\n",
              "      <td>2003</td>\n",
              "      <td>836</td>\n",
              "      <td>PG-13</td>\n",
              "      <td>Action|Adventure|Fantasy</td>\n",
              "      <td>Peter Jackson</td>\n",
              "      <td>Noel Appleby|Alexandra Astin|Sean Astin|David ...</td>\n",
              "      <td>201</td>\n",
              "      <td>8.9</td>\n",
              "    </tr>\n",
              "    <tr>\n",
              "      <th>193</th>\n",
              "      <td>Kingdom of Heaven</td>\n",
              "      <td>2005</td>\n",
              "      <td>610</td>\n",
              "      <td>R</td>\n",
              "      <td>Action|Adventure|Drama|History|War</td>\n",
              "      <td>Ridley Scott</td>\n",
              "      <td>Martin Hancock|Michael Sheen|Nathalie Cox|Eriq...</td>\n",
              "      <td>144</td>\n",
              "      <td>7.2</td>\n",
              "    </tr>\n",
              "    <tr>\n",
              "      <th>382</th>\n",
              "      <td>Troy</td>\n",
              "      <td>2004</td>\n",
              "      <td>572</td>\n",
              "      <td>R</td>\n",
              "      <td>Adventure|Drama</td>\n",
              "      <td>Wolfgang Petersen</td>\n",
              "      <td>Julian Glover|Brian Cox|Nathan Jones|Adoni Mar...</td>\n",
              "      <td>163</td>\n",
              "      <td>7.2</td>\n",
              "    </tr>\n",
              "    <tr>\n",
              "      <th>206</th>\n",
              "      <td>The Last Samurai</td>\n",
              "      <td>2003</td>\n",
              "      <td>558</td>\n",
              "      <td>R</td>\n",
              "      <td>Action|Drama|History|War</td>\n",
              "      <td>Edward Zwick</td>\n",
              "      <td>Ken Watanabe|Tom Cruise|William Atherton|Chad ...</td>\n",
              "      <td>154</td>\n",
              "      <td>7.7</td>\n",
              "    </tr>\n",
              "    <tr>\n",
              "      <th>222</th>\n",
              "      <td>The Lord of the Rings: The Two Towers</td>\n",
              "      <td>2002</td>\n",
              "      <td>468</td>\n",
              "      <td>PG-13</td>\n",
              "      <td>Action|Adventure|Fantasy</td>\n",
              "      <td>Peter Jackson</td>\n",
              "      <td>Bruce Allpress|Sean Astin|John Bach|Sala Baker...</td>\n",
              "      <td>179</td>\n",
              "      <td>8.8</td>\n",
              "    </tr>\n",
              "    <tr>\n",
              "      <th>154</th>\n",
              "      <td>Grindhouse</td>\n",
              "      <td>2007</td>\n",
              "      <td>310</td>\n",
              "      <td>R</td>\n",
              "      <td>Action|Horror|Thriller</td>\n",
              "      <td>Robert Rodriguez|Eli Roth|Quentin Tarantino|Ed...</td>\n",
              "      <td>Kurt Russell|Zoë Bell|Rosario Dawson|Vanessa F...</td>\n",
              "      <td>191</td>\n",
              "      <td>7.7</td>\n",
              "    </tr>\n",
              "    <tr>\n",
              "      <th>159</th>\n",
              "      <td>Lat sau san taam</td>\n",
              "      <td>1992</td>\n",
              "      <td>307</td>\n",
              "      <td>R</td>\n",
              "      <td>Action|Crime|Drama|Thriller</td>\n",
              "      <td>John Woo</td>\n",
              "      <td>Yun-Fat Chow|Tony Leung Chiu Wai|Teresa Mo|Phi...</td>\n",
              "      <td>128</td>\n",
              "      <td>8.0</td>\n",
              "    </tr>\n",
              "    <tr>\n",
              "      <th>375</th>\n",
              "      <td>Titanic</td>\n",
              "      <td>1997</td>\n",
              "      <td>307</td>\n",
              "      <td>PG-13</td>\n",
              "      <td>Drama|Romance</td>\n",
              "      <td>James Cameron</td>\n",
              "      <td>Leonardo DiCaprio|Kate Winslet|Billy Zane|Kath...</td>\n",
              "      <td>194</td>\n",
              "      <td>7.7</td>\n",
              "    </tr>\n",
              "    <tr>\n",
              "      <th>406</th>\n",
              "      <td>We Were Soldiers</td>\n",
              "      <td>2002</td>\n",
              "      <td>305</td>\n",
              "      <td>R</td>\n",
              "      <td>Action|Drama|History|War</td>\n",
              "      <td>Randall Wallace</td>\n",
              "      <td>Mel Gibson|Madeleine Stowe|Greg Kinnear|Sam El...</td>\n",
              "      <td>138</td>\n",
              "      <td>7.1</td>\n",
              "    </tr>\n",
              "    <tr>\n",
              "      <th>349</th>\n",
              "      <td>Starship Troopers</td>\n",
              "      <td>1997</td>\n",
              "      <td>256</td>\n",
              "      <td>R</td>\n",
              "      <td>Action|Sci-Fi</td>\n",
              "      <td>Paul Verhoeven</td>\n",
              "      <td>Casper Van Dien|Dina Meyer|Denise Richards|Jak...</td>\n",
              "      <td>129</td>\n",
              "      <td>7.2</td>\n",
              "    </tr>\n",
              "    <tr>\n",
              "      <th>317</th>\n",
              "      <td>Saving Private Ryan</td>\n",
              "      <td>1998</td>\n",
              "      <td>255</td>\n",
              "      <td>R</td>\n",
              "      <td>Action|Drama|War</td>\n",
              "      <td>Steven Spielberg</td>\n",
              "      <td>Tom Hanks|Tom Sizemore|Edward Burns|Barry Pepp...</td>\n",
              "      <td>169</td>\n",
              "      <td>8.6</td>\n",
              "    </tr>\n",
              "    <tr>\n",
              "      <th>291</th>\n",
              "      <td>Rambo</td>\n",
              "      <td>2008</td>\n",
              "      <td>247</td>\n",
              "      <td>R</td>\n",
              "      <td>Action|Thriller|War</td>\n",
              "      <td>Sylvester Stallone</td>\n",
              "      <td>Sylvester Stallone|Julie Benz|Matthew Marsden|...</td>\n",
              "      <td>92</td>\n",
              "      <td>7.1</td>\n",
              "    </tr>\n",
              "    <tr>\n",
              "      <th>117</th>\n",
              "      <td>Equilibrium</td>\n",
              "      <td>2002</td>\n",
              "      <td>236</td>\n",
              "      <td>R</td>\n",
              "      <td>Action|Drama|Sci-Fi|Thriller</td>\n",
              "      <td>Kurt Wimmer</td>\n",
              "      <td>Christian Bale|Dominic Purcell|Sean Bean|Chris...</td>\n",
              "      <td>107</td>\n",
              "      <td>7.6</td>\n",
              "    </tr>\n",
              "    <tr>\n",
              "      <th>60</th>\n",
              "      <td>Dip huet gaai tau</td>\n",
              "      <td>1990</td>\n",
              "      <td>214</td>\n",
              "      <td>NaN</td>\n",
              "      <td>Crime|Drama|Thriller</td>\n",
              "      <td>John Woo</td>\n",
              "      <td>Tony Leung Chiu Wai|Jacky Cheung|Waise Lee|Sim...</td>\n",
              "      <td>136</td>\n",
              "      <td>7.7</td>\n",
              "    </tr>\n",
              "  </tbody>\n",
              "</table>\n",
              "</div>"
            ],
            "text/plain": [
              "                                              Film  ...  IMDB_Rating\n",
              "223  The Lord of the Rings: The Return of the King  ...          8.9\n",
              "193                              Kingdom of Heaven  ...          7.2\n",
              "382                                           Troy  ...          7.2\n",
              "206                               The Last Samurai  ...          7.7\n",
              "222          The Lord of the Rings: The Two Towers  ...          8.8\n",
              "154                                     Grindhouse  ...          7.7\n",
              "159                               Lat sau san taam  ...          8.0\n",
              "375                                        Titanic  ...          7.7\n",
              "406                               We Were Soldiers  ...          7.1\n",
              "349                              Starship Troopers  ...          7.2\n",
              "317                            Saving Private Ryan  ...          8.6\n",
              "291                                          Rambo  ...          7.1\n",
              "117                                    Equilibrium  ...          7.6\n",
              "60                               Dip huet gaai tau  ...          7.7\n",
              "\n",
              "[14 rows x 9 columns]"
            ]
          },
          "metadata": {},
          "execution_count": 46
        }
      ]
    },
    {
      "cell_type": "markdown",
      "metadata": {
        "id": "TLYFYvojdSGL"
      },
      "source": [
        "We now see that the 'Lord of the Rings' is a large outlier with a very large number of kills. We can try and determine how much of an outlier by histograming the data. "
      ]
    },
    {
      "cell_type": "markdown",
      "metadata": {
        "id": "G82wmogMdSGL"
      },
      "source": [
        "### Plotting the Data"
      ]
    },
    {
      "cell_type": "code",
      "metadata": {
        "colab": {
          "base_uri": "https://localhost:8080/",
          "height": 298
        },
        "id": "TeumwigUdSGL",
        "outputId": "8e69ce9b-d0ad-4850-8e82-63e205713e8f"
      },
      "source": [
        "film_deaths['Body_Count'].hist(bins=20) # histogram the data with 20 bins.\n",
        "plt.title('Histogram of Film Kill Count')"
      ],
      "execution_count": null,
      "outputs": [
        {
          "output_type": "execute_result",
          "data": {
            "text/plain": [
              "Text(0.5, 1.0, 'Histogram of Film Kill Count')"
            ]
          },
          "metadata": {},
          "execution_count": 47
        },
        {
          "output_type": "display_data",
          "data": {
            "image/png": "[encoded data removed]",
            "text/plain": [
              "<Figure size 432x288 with 1 Axes>"
            ]
          },
          "metadata": {
            "needs_background": "light"
          }
        }
      ]
    },
    {
      "cell_type": "markdown",
      "metadata": {
        "id": "8wHnX-ufdSGL"
      },
      "source": [
        "### Question 2 \n",
        "Read on the internet about the following python libraries: `numpy`, `matplotlib`, `scipy` and `pandas`. What functionality does each provide in python. What is the `pylab` library and how does it relate to the other libraries?"
      ]
    },
    {
      "cell_type": "markdown",
      "metadata": {
        "id": "fbZIG6q7dSGL"
      },
      "source": [
        "#### Question 2 Answer\n",
        "\n",
        "Write your answer to the question in this box.\n",
        "\n",
        "1.   Numpy is a library for python to support for large, multi-dimensional arrays and matrices, along with a large collection of high-level mathematical functions to operate on these arrays.\n",
        "2.   Matplotlib is a plotting library for the Python programming language and its numerical mathematics extension NumPy.\n",
        "3.   Scipy is a free and open-source Python library used for scientific computing and technical computing.\n",
        "4.   Pandas is a software library written for the Python programming language for data manipulation and analysis.\n",
        "5.   Pylab is an interface based on a machine,designed to closely resemble like matlab.\n",
        "\n"
      ]
    },
    {
      "cell_type": "markdown",
      "metadata": {
        "id": "cepR9du0dSGL"
      },
      "source": [
        "We could try and remove these outliers, but another approach would be to plot the logarithm of the counts against the year."
      ]
    },
    {
      "cell_type": "code",
      "metadata": {
        "colab": {
          "base_uri": "https://localhost:8080/",
          "height": 312
        },
        "id": "5nq8WZ-7dSGL",
        "outputId": "6707ea8f-245b-4841-89b1-ab862692b11d"
      },
      "source": [
        "plt.plot(film_deaths['Year'], film_deaths['Body_Count'], 'rx')\n",
        "ax = plt.gca() # obtain a handle to the current axis\n",
        "ax.set_yscale('log') # use a logarithmic death scale\n",
        "# give the plot some titles and labels\n",
        "plt.title('Film Deaths against Year')\n",
        "plt.ylabel('deaths')\n",
        "plt.xlabel('year')"
      ],
      "execution_count": null,
      "outputs": [
        {
          "output_type": "execute_result",
          "data": {
            "text/plain": [
              "Text(0.5, 0, 'year')"
            ]
          },
          "metadata": {},
          "execution_count": 48
        },
        {
          "output_type": "display_data",
          "data": {
            "image/png": "[encoded data removed]",
            "text/plain": [
              "<Figure size 432x288 with 1 Axes>"
            ]
          },
          "metadata": {
            "needs_background": "light"
          }
        }
      ]
    },
    {
      "cell_type": "markdown",
      "metadata": {
        "id": "UIu4VQr8dSGM"
      },
      "source": [
        "Note a few things. We are interacting with our data. In particular, we are replotting the data according to what we have learned so far. We are using the programming language as a *scripting* language to give the computer one command or another, and then the next command we enter is dependent on the result of the previous. This is a very different paradigm to classical software engineering. In classical software engineering we normally write many lines of code (entire object classes or functions) before compiling the code and running it. Our approach is more similar to the approach we take whilst debugging. Historically, researchers interacted with data using a *console*. A command line window which allowed command entry. The notebook format we are using is slightly different. Each of the code entry boxes acts like a separate console window. We can move up and down the notebook and run each part in a different order. The *state* of the program is always as we left it after running the previous part.  "
      ]
    },
    {
      "cell_type": "markdown",
      "metadata": {
        "id": "6ooaKnF4dSGM"
      },
      "source": [
        "### Question 3\n",
        "\n",
        "What is jupyter and why was it invented? Give some examples of functionality it gives over standard python. What is the jupyter project? Name two languages involved in the Jupyter project other than python."
      ]
    },
    {
      "cell_type": "markdown",
      "metadata": {
        "id": "xA-UoW-5dSGM"
      },
      "source": [
        "#### Question 3 Answer\n",
        "\n",
        "Jupyter is a project and community whose goal is to develop open-source software, open-standards, and services for interactive computing across dozens of programming languages.\n",
        "\n",
        "It can run some code blocks directly.And it can be accessed remotely.\n",
        "\n",
        "Javascript,\n",
        "CSS"
      ]
    },
    {
      "cell_type": "markdown",
      "metadata": {
        "id": "FcWMCzoNdSGM"
      },
      "source": [
        "## Probabilities\n",
        "\n",
        "We are now going to do some simple review of probabilities and use this review to explore some aspects of our data.\n",
        "\n",
        "A probability distribution expresses uncertainty about the outcome of an event. We often encode this uncertainty in a variable. So if we are considering the outcome of an event, $Y$, to be a coin toss, then we might consider $Y=1$ to be heads and $Y=0$ to be tails. We represent the probability of a given outcome with the notation:\n",
        "$$\n",
        "P(Y=1) = 0.5\n",
        "$$\n",
        "The first rule of probability is that the probability must normalize. The sum of the probability of all events must equal 1. So if the probability of heads ($Y=1$) is 0.5, then the probability of tails (the only other possible outcome) is given by\n",
        "$$\n",
        "P(Y=0) = 1-P(Y=1) = 0.5\n",
        "$$\n",
        "\n",
        "Probabilities are often defined as the limit of the ratio between the number of positive outcomes (e.g. *heads*) given the number of trials. If the number of positive outcomes for event $y$ is denoted by $n_y$ and the number of trials is denoted by $N$ then this gives the ratio \n",
        "$$\n",
        "P(Y=y) = \\lim_{N\\rightarrow \\infty}\\frac{n_y}{N}.\n",
        "$$\n",
        "In practice we never get to observe an event infinite times, so rather than considering this we often use the following estimate\n",
        "$$\n",
        "P(Y=y) \\approx \\frac{n_y}{N}.\n",
        "$$\n",
        "Let's use this rule to compute the approximate probability that a film from the movie body count website has over 40 deaths."
      ]
    },
    {
      "cell_type": "code",
      "metadata": {
        "colab": {
          "base_uri": "https://localhost:8080/"
        },
        "id": "Kt1_EBfddSGO",
        "outputId": "4c0e02e8-03b9-4b3a-e9f7-620bd60f17f3"
      },
      "source": [
        "deaths = (film_deaths.Body_Count>40).sum()  # number of positive outcomes (in sum True counts as 1, False counts as 0)\n",
        "total_films = film_deaths.Body_Count.count()\n",
        "prob_death = deaths/total_films\n",
        "print(\"Probability of deaths being greater than 40 is:\", prob_death)"
      ],
      "execution_count": null,
      "outputs": [
        {
          "output_type": "stream",
          "name": "stdout",
          "text": [
            "Probability of deaths being greater than 40 is: 0.37767220902612825\n"
          ]
        }
      ]
    },
    {
      "cell_type": "markdown",
      "metadata": {
        "id": "ZrKSR2QMdSGO"
      },
      "source": [
        "### Question 4\n",
        "\n",
        "We now have an estimate of the probability a film has greater than 40 deaths. The estimate seems quite high. What could be wrong with the estimate? Do you think any film you go to in the cinema has this probability of having greater than 40 deaths?"
      ]
    },
    {
      "cell_type": "markdown",
      "metadata": {
        "id": "ZnHmCR-ldSGO"
      },
      "source": [
        "#### Question 4 Answer\n",
        "Perhaps the sample size is too small.And the movies in some years may have more deaths than movies in other years.\n",
        "\n",
        "No.The probability is too high."
      ]
    },
    {
      "cell_type": "markdown",
      "metadata": {
        "id": "eYsSG8tAdSGO"
      },
      "source": [
        "# Conditioning\n",
        "\n",
        "When predicting whether a coin turns up head or tails, we might think that this event is *independent* of the year or time of day. If we include an observation such as time, then in a probability this is known as *conditioning*. We use this notation, $P(Y=y|T=t)$, to condition the outcome on a second variable (in this case time). Or, often, for a shorthand we use $P(y|t)$ to represent this distribution (the $Y=$ and $T=$ being implicit). Because we don't believe a coin toss depends on time then we might write that \n",
        "$$\n",
        "P(y|t) = P(y).\n",
        "$$\n",
        "However, we might believe that the number of deaths is dependent on the year. For this we can try estimating $P(Y>40 | T=2000)$ and compare the result, for example to $P(Y>40|2002)$ using our empirical estimate of the probability."
      ]
    },
    {
      "cell_type": "code",
      "metadata": {
        "colab": {
          "base_uri": "https://localhost:8080/"
        },
        "id": "xi6OA-0EdSGO",
        "outputId": "fe1973d3-0323-49fc-bc62-c5e453a3c1e1"
      },
      "source": [
        "for year in [2000, 2002]:\n",
        "    deaths = (film_deaths.Body_Count[film_deaths.Year==year]>40).sum()\n",
        "    total_films = (film_deaths.Year==year).sum()\n",
        "\n",
        "    prob_death = float(deaths)/float(total_films)\n",
        "    print(\"Probability of deaths being greather than 40 in year\", year, \"is:\", prob_death)"
      ],
      "execution_count": null,
      "outputs": [
        {
          "output_type": "stream",
          "name": "stdout",
          "text": [
            "Probability of deaths being greather than 40 in year 2000 is: 0.16666666666666666\n",
            "Probability of deaths being greather than 40 in year 2002 is: 0.4074074074074074\n"
          ]
        }
      ]
    },
    {
      "cell_type": "markdown",
      "metadata": {
        "id": "wt1m9ceTdSGO"
      },
      "source": [
        "### Question 5\n",
        "\n",
        "Compute the probability for the number of deaths being over 40 for each year we have in our `film_deaths` data frame. Store the result in a `numpy` array and plot the probabilities against the years using the `plot` command from `matplotlib`. Do you think the estimate we have created of $P(y|t)$ is a good estimate? Write your code and your written answers in the box below.  "
      ]
    },
    {
      "cell_type": "code",
      "metadata": {
        "id": "YbE1gkf-dSGO",
        "colab": {
          "base_uri": "https://localhost:8080/",
          "height": 312
        },
        "outputId": "866cb190-143e-4163-cc82-659e777edf11"
      },
      "source": [
        "# Question 5 Answer Code\n",
        "# Write code for you answer to this question in this box\n",
        "%matplotlib inline \n",
        "import numpy as np\n",
        "import pylab as plt\n",
        "unique_years = film_deaths.Year.sort_values().unique()\n",
        "number_years = unique_years.size\n",
        "pyear = np.empty(number_years)\n",
        "for i in range(number_years):\n",
        "    deaths = (film_deaths.Body_Count[film_deaths.Year==unique_years[i]]>40).sum()\n",
        "    total_films = (film_deaths.Year==unique_years[i]).sum()\n",
        "    pyear[i] = deaths/total_films\n",
        "\n",
        "#now begin plot\n",
        "plt.plot(unique_years, pyear, 'rx')\n",
        "plt.title('P(deaths>40|year)')\n",
        "plt.ylabel('probability')\n",
        "plt.xlabel('year')"
      ],
      "execution_count": null,
      "outputs": [
        {
          "output_type": "execute_result",
          "data": {
            "text/plain": [
              "Text(0.5, 0, 'year')"
            ]
          },
          "metadata": {},
          "execution_count": 8
        },
        {
          "output_type": "display_data",
          "data": {
            "image/png": "[encoded data removed]",
            "text/plain": [
              "<Figure size 432x288 with 1 Axes>"
            ]
          },
          "metadata": {
            "needs_background": "light"
          }
        }
      ]
    },
    {
      "cell_type": "markdown",
      "metadata": {
        "id": "OCUyKKBVdSGO"
      },
      "source": [
        "#### Question 5 Answer Text\n",
        "\n",
        "Write your answer to the question in this box."
      ]
    },
    {
      "cell_type": "markdown",
      "metadata": {
        "id": "dlLK4HqEdSGP"
      },
      "source": [
        "#### Notes for Question 5\n",
        "\n",
        "Make sure the plot is included in *this* notebook file (the `IPython` magic command `%matplotlib inline` we ran above will do that for you, it only needs to be run once per file)."
      ]
    },
    {
      "cell_type": "markdown",
      "metadata": {
        "id": "Cg_Qes6gdSGP"
      },
      "source": [
        "### Rules of Probability\n",
        "\n",
        "We've now introduced conditioning and independence to the notion of probability and computed some conditional probabilities on a practical example The scatter plot of deaths vs year that we created above can be seen as a *joint* probability distribution. We represent a joint probability using the notation $P(Y=y, T=t)$ or $P(y, t)$ for short. Computing a joint probability is equivalent to answering the simultaneous questions, what's the probability that the number of deaths was over 40 and the year was 2002? Or any other question that may occur to us. Again we can easily use pandas to ask such questions.\n"
      ]
    },
    {
      "cell_type": "code",
      "metadata": {
        "id": "lMI6ABkOdSGP"
      },
      "source": [
        "year = 2000\n",
        "deaths = (film_deaths.Body_Count[film_deaths.Year==year]>40).sum()\n",
        "total_films = film_deaths.Body_Count.count() # this is total number of films\n",
        "prob_death = float(deaths)/float(total_films)\n",
        "print(\"Probability of deaths being greather than 40 and year being\", year, \"is:\", prob_death)"
      ],
      "execution_count": null,
      "outputs": []
    },
    {
      "cell_type": "markdown",
      "metadata": {
        "id": "NPJ7O0cGdSGP"
      },
      "source": [
        "### The Product Rule\n",
        "\n",
        "This number is the joint probability, $P(Y, T)$ which is much *smaller* than the conditional probability. The number can never be bigger than the conditional probability because it is computed using the *product rule*.\n",
        "$$\n",
        "p(Y=y, T=t) = p(Y=y|T=t)p(T=t)\n",
        "$$\n",
        "and $$p(T=t)$$ is a probability distribution, which is equal or less than 1, ensuring the joint distribution is typically smaller than the conditional distribution.\n",
        "\n",
        "The product rule is a *fundamental* rule of probability, and you must remember it! It gives the relationship between the two questions: 1) What's the probability that a film was made in 2002 and has over 40 deaths? and 2) What's the probability that a film has over 40 deaths given that it was made in 2002?\n",
        "\n",
        "In our shorter notation we can write the product rule as\n",
        "$$\n",
        "p(y, t) = p(y|t)p(t)\n",
        "$$\n",
        "We can see the relation working in practice for our data above by computing the different values for $t=2000$."
      ]
    },
    {
      "cell_type": "code",
      "metadata": {
        "id": "82xEo2a1dSGP",
        "colab": {
          "base_uri": "https://localhost:8080/"
        },
        "outputId": "c942f76d-e9d3-432f-e48b-7348bd9aa787"
      },
      "source": [
        "p_t = float((film_deaths.Year==2002).sum())/float(film_deaths.Body_Count.count())\n",
        "p_y_given_t = float((film_deaths.Body_Count[film_deaths.Year==2002]>40).sum())/float((film_deaths.Year==2002).sum())\n",
        "p_y_and_t = float((film_deaths.Body_Count[film_deaths.Year==2002]>40).sum())/float(film_deaths.Body_Count.count())\n",
        "\n",
        "print(\"P(t) is\", p_t)\n",
        "print(\"P(y|t) is\", p_y_given_t)\n",
        "print(\"P(y,t) is\", p_y_and_t)"
      ],
      "execution_count": null,
      "outputs": [
        {
          "output_type": "stream",
          "name": "stdout",
          "text": [
            "P(t) is 0.06413301662707839\n",
            "P(y|t) is 0.4074074074074074\n",
            "P(y,t) is 0.026128266033254157\n"
          ]
        }
      ]
    },
    {
      "cell_type": "markdown",
      "metadata": {
        "id": "zdUnDh-MdSGP"
      },
      "source": [
        "### The Sum Rule\n",
        "\n",
        "The other *fundamental rule* of probability is the *sum rule* this tells us how to get a *marginal* distribution from the joint distribution. Simply put it says that we need to sum across the value we'd like to remove.\n",
        "$$\n",
        "P(Y=y) = \\sum_{t} P(Y=y, T=t)\n",
        "$$\n",
        "Or in our shortened notation\n",
        "$$\n",
        "P(y) = \\sum_{t} P(y, t)\n",
        "$$"
      ]
    },
    {
      "cell_type": "markdown",
      "metadata": {
        "id": "sB-5vAfJdSGP"
      },
      "source": [
        "### Assignment Question 6\n",
        "\n",
        "Write code that computes $P(y)$ by adding $P(y, t)$ for all values of $t$. "
      ]
    },
    {
      "cell_type": "code",
      "metadata": {
        "id": "TRufJiMJdSGP",
        "colab": {
          "base_uri": "https://localhost:8080/"
        },
        "outputId": "07a7f126-9c97-457f-8ed7-7b91898739e4"
      },
      "source": [
        "# Question 6 Answer Code\n",
        "# Write code for you answer to this question in this box\n",
        "\n",
        "p_y_and_t_all = np.empty(number_years)\n",
        "for i in range(number_years):\n",
        "  p_y_and_t_all[i] = float ((film_deaths.Body_Count[film_deaths.Year == unique_years[i]] > 40).sum()) / float(film_deaths.Body_Count.count())\n",
        "\n",
        "Py = np.sum(p_y_and_t_all)\n",
        "Py"
      ],
      "execution_count": null,
      "outputs": [
        {
          "output_type": "execute_result",
          "data": {
            "text/plain": [
              "0.37767220902612825"
            ]
          },
          "metadata": {},
          "execution_count": 15
        }
      ]
    },
    {
      "cell_type": "markdown",
      "metadata": {
        "id": "BVaUIGvWdSGQ"
      },
      "source": [
        "## Bayes' Rule\n",
        "\n",
        "Bayes rule is a very simple rule, it's hardly worth the name of a rule at all. It follows directly from the product rule of probability. Because $P(y, t) = P(y|t)P(t)$ and by symmetry $P(y,t)=P(t,y)=P(t|y)P(y)$ then by equating these two equations and dividing through by $P(y)$ we have\n",
        "$$\n",
        "P(t|y) = \\frac{P(y|t)P(t)}{P(y)},\n",
        "$$\n",
        "which is known as Bayes' rule (or Bayes's rule, it depends how you choose to pronounce it). It's not difficult to derive, and its importance is more to do with the semantic operation that it enables. Each of these probability distributions represents the answer to a question we have about the world. Bayes rule (via the product rule) tells us how to *invert* the probability."
      ]
    },
    {
      "cell_type": "markdown",
      "metadata": {
        "id": "0EZ_t7JmdSGQ"
      },
      "source": [
        "## Probabilities for Extracting Information from Data\n",
        "\n",
        "What use is all this probability in data science? Let's think about how we might use the probabilities to do some decision making. Let's load up a little more information about the movies."
      ]
    },
    {
      "cell_type": "code",
      "metadata": {
        "id": "ITkBQTMWdSGQ",
        "colab": {
          "base_uri": "https://localhost:8080/"
        },
        "outputId": "7bbd0f20-280f-4ec9-c783-e3ffb34ceb6f"
      },
      "source": [
        "movies = pd.read_csv('./R-vs-Python-master/Deadliest movies scrape/code/film-death-counts-Python.csv')\n",
        "movies.columns"
      ],
      "execution_count": null,
      "outputs": [
        {
          "output_type": "execute_result",
          "data": {
            "text/plain": [
              "Index(['Film', 'Year', 'Body_Count', 'MPAA_Rating', 'Genre', 'Director',\n",
              "       'Actors', 'Length_Minutes', 'IMDB_Rating'],\n",
              "      dtype='object')"
            ]
          },
          "metadata": {},
          "execution_count": 16
        }
      ]
    },
    {
      "cell_type": "markdown",
      "metadata": {
        "id": "ZIMdRztvdSGQ"
      },
      "source": [
        "### Question 7\n",
        "\n",
        "Now we see we have several additional features including the quality rating (`IMDB_Rating`). Let's assume we want to predict the rating given the other information in the data base. How would we go about doing it? \n",
        "\n",
        "Using what you've learnt about joint, conditional and marginal probabilities, as well as the sum and product rule, how would you formulate the question you want to answer in terms of probabilities? Should you be using a joint or a conditional distribution? If it's conditional, what should the distribution be over, and what should it be conditioned on?"
      ]
    },
    {
      "cell_type": "markdown",
      "metadata": {
        "id": "9jDbJTcHdSGQ"
      },
      "source": [
        "#### Question 7 Answer Text\n",
        "\n",
        "We can use a conditional probability as a predictive model of the probability of quality rating values given other variables in the dataset.We can ask questions like what is the probability that the rating for a particular film is equal to 7 given other features for the film? In this case the distribution will be over `INDB_Rating` and it would be conditioned on all the other variabels 'film','year',...."
      ]
    }
  ]
}